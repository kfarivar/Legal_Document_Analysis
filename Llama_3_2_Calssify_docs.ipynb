{
 "cells": [
  {
   "cell_type": "code",
   "execution_count": null,
   "metadata": {
    "id": "c88y-JAutsqM",
    "jupyter": {
     "source_hidden": true
    }
   },
   "outputs": [],
   "source": [
    "!apt-get install -y zip unzip\n",
    "!pip install --upgrade pip\n",
    "!pip install datasets transformers bitsandbytes>=0.39.0 accelerate>=0.20.0 optimum>=1.20.0 gdown packaging ninja  -q\n",
    "!gdown --folder https://drive.google.com/drive/folders/1-gHn8PGabr54NKOCBN7zaLAM6iuMJI3-?usp=sharing\n",
    "!unzip ./Andre_legal_processing/MD_splits.zip -d ./Andre_legal_processing\n",
    "!ninja --version\n",
    "!echo $?"
   ]
  },
  {
   "cell_type": "code",
   "execution_count": null,
   "metadata": {
    "id": "o1ZoXSswBeP-",
    "jupyter": {
     "source_hidden": true
    }
   },
   "outputs": [],
   "source": [
    "!pip install flash-attn --no-build-isolation"
   ]
  },
  {
   "cell_type": "code",
   "execution_count": null,
   "metadata": {
    "id": "7-xnlBUcRkVU",
    "jupyter": {
     "source_hidden": true
    }
   },
   "outputs": [],
   "source": [
    "#!pip install faiss-gpu-cu12\n",
    "#!pip install auto-gptq --no-build-isolation"
   ]
  },
  {
   "cell_type": "code",
   "execution_count": 1,
   "metadata": {
    "colab": {
     "referenced_widgets": [
      "783456c68a4b48cb9431b2d99b94ca15",
      "5749ea744c4c4be89b75fad8d92a7cb0",
      "8ae4e35ed9844c5a9ee003daae5272a4"
     ]
    },
    "id": "RAgnYNURtiPv",
    "outputId": "7d84dc41-e31b-43b6-fad1-bbda51656a18"
   },
   "outputs": [
    {
     "data": {
      "application/vnd.jupyter.widget-view+json": {
       "model_id": "a3769799f17840f68c669460a0975bdb",
       "version_major": 2,
       "version_minor": 0
      },
      "text/plain": [
       "VBox(children=(HTML(value='<center> <img\\nsrc=https://huggingface.co/front/assets/huggingface_logo-noborder.sv…"
      ]
     },
     "metadata": {},
     "output_type": "display_data"
    }
   ],
   "source": [
    "from huggingface_hub import notebook_login\n",
    "notebook_login()"
   ]
  },
  {
   "cell_type": "code",
   "execution_count": 2,
   "metadata": {
    "id": "_uAZtkXyVTAz"
   },
   "outputs": [],
   "source": [
    "import os\n",
    "os.environ['HF_HOME'] = './HF_cache'\n",
    "os.environ['HF_HUB_CACHE'] = './HF_cache'\n",
    "\n",
    "import torch\n",
    "torch.set_grad_enabled(False)\n",
    "\n",
    "from pathlib import Path\n",
    "import pandas as pd\n",
    "from tqdm import tqdm\n",
    "from transformers import AutoModelForCausalLM, AutoTokenizer\n",
    "from datasets import Dataset, load_from_disk"
   ]
  },
  {
   "cell_type": "code",
   "execution_count": 3,
   "metadata": {
    "id": "RZaU5pvYcGZ7"
   },
   "outputs": [],
   "source": [
    "plain_text_save_path = Path('???')\n",
    "\n",
    "md_docs_save_path = Path('./MD_Docs')\n",
    "md_docs_splits_save_path = Path('./MD_splits')"
   ]
  },
  {
   "cell_type": "markdown",
   "metadata": {
    "id": "2KrIlgXM-uz6",
    "jp-MarkdownHeadingCollapsed": true
   },
   "source": [
    "## Split MD files into train/val/test\n",
    "I will do them 80/10/10 %.\\\n",
    "The test will only be used for the final evaluation."
   ]
  },
  {
   "cell_type": "code",
   "execution_count": null,
   "metadata": {
    "id": "KCZ3b7Of_4Gy"
   },
   "outputs": [],
   "source": [
    "from random import sample, seed\n",
    "from shutil import copy\n",
    "from tqdm import tqdm"
   ]
  },
  {
   "cell_type": "code",
   "execution_count": null,
   "metadata": {
    "id": "zpGO6ahj_Rm4"
   },
   "outputs": [],
   "source": [
    "seed(0)\n",
    "md_files = list(md_docs_save_path.glob('*.md'))\n",
    "# shuffle the files\n",
    "shuffled_md_files = sample(md_files, len(md_files))\n",
    "train_size = int(0.8 * len(md_files))\n",
    "val_size = int(0.1* len(md_files))\n",
    "test_size = len(md_files) - train_size - val_size"
   ]
  },
  {
   "cell_type": "code",
   "execution_count": null,
   "metadata": {
    "id": "oLoMuEqd_RfC"
   },
   "outputs": [],
   "source": [
    "test_set = shuffled_md_files[:test_size]\n",
    "val_set = shuffled_md_files[test_size:test_size+val_size]\n",
    "train_set = shuffled_md_files[test_size+val_size:]"
   ]
  },
  {
   "cell_type": "code",
   "execution_count": null,
   "metadata": {
    "colab": {
     "base_uri": "https://localhost:8080/"
    },
    "executionInfo": {
     "elapsed": 126264,
     "status": "ok",
     "timestamp": 1734201167183,
     "user": {
      "displayName": "Kiarash Farivar",
      "userId": "04518831400746305993"
     },
     "user_tz": -210
    },
    "id": "dOMCbthNB8S_",
    "outputId": "90da6d18-76ca-48e2-cf84-8f4f8c1cb86f"
   },
   "outputs": [
    {
     "name": "stderr",
     "output_type": "stream",
     "text": [
      "100%|██████████| 342/342 [01:35<00:00,  3.56it/s]\n",
      "100%|██████████| 42/42 [00:15<00:00,  2.70it/s]\n",
      "100%|██████████| 44/44 [00:14<00:00,  2.96it/s]\n"
     ]
    }
   ],
   "source": [
    "sets = {'train': train_set, 'val': val_set, 'test': test_set}\n",
    "for set_name, set_files in sets.items():\n",
    "  save_dir = md_docs_splits_save_path / set_name\n",
    "  for file_ in tqdm(set_files):\n",
    "    copy(file_, save_dir)"
   ]
  },
  {
   "cell_type": "markdown",
   "metadata": {
    "id": "mRyZO3_IRndY"
   },
   "source": [
    "## Create the dataset"
   ]
  },
  {
   "cell_type": "code",
   "execution_count": 4,
   "metadata": {
    "id": "7g5seRKYFjWa"
   },
   "outputs": [],
   "source": [
    "doc_splits = {'train':md_docs_splits_save_path/'train', 'val':md_docs_splits_save_path/'val'}"
   ]
  },
  {
   "cell_type": "markdown",
   "metadata": {
    "id": "M-Cj4Lz8t_cw"
   },
   "source": [
    "There is a problem including file paths using load_dataset. I will load using pandas first."
   ]
  },
  {
   "cell_type": "code",
   "execution_count": 5,
   "metadata": {
    "id": "O1cS0ylsrzx1"
   },
   "outputs": [],
   "source": [
    "def load_split(split_path):\n",
    "  '''\n",
    "  input is a Path\n",
    "  output is a pandas dataframe\n",
    "  '''\n",
    "  file_paths = [f for f in split_path.glob('*.md')]\n",
    "  docs_frame = pd.DataFrame(columns=['file_name', 'path', 'text'])\n",
    "\n",
    "  for p in tqdm(file_paths):\n",
    "    f = p.open('r', encoding=\"utf-8\")\n",
    "    path = str(p)\n",
    "    file_name = p.stem\n",
    "    text = f.read()\n",
    "    row = pd.DataFrame([file_name, path, text]).T\n",
    "    row.columns = ['file_name', 'path', 'text']\n",
    "    docs_frame = pd.concat([docs_frame, row])\n",
    "\n",
    "  docs_frame = docs_frame.reset_index(drop=True)\n",
    "\n",
    "  return docs_frame"
   ]
  },
  {
   "cell_type": "code",
   "execution_count": 6,
   "metadata": {
    "colab": {
     "base_uri": "https://localhost:8080/",
     "height": 241
    },
    "executionInfo": {
     "elapsed": 39217,
     "status": "ok",
     "timestamp": 1734269922567,
     "user": {
      "displayName": "K F",
      "userId": "14548814325396358212"
     },
     "user_tz": -210
    },
    "id": "-eu3EQZhxYeu",
    "outputId": "826c1082-881a-4240-d209-c890948a136c"
   },
   "outputs": [
    {
     "name": "stderr",
     "output_type": "stream",
     "text": [
      "100%|██████████| 342/342 [00:00<00:00, 1077.96it/s]\n",
      "100%|██████████| 42/42 [00:00<00:00, 1187.63it/s]\n"
     ]
    },
    {
     "data": {
      "text/html": [
       "<div>\n",
       "<style scoped>\n",
       "    .dataframe tbody tr th:only-of-type {\n",
       "        vertical-align: middle;\n",
       "    }\n",
       "\n",
       "    .dataframe tbody tr th {\n",
       "        vertical-align: top;\n",
       "    }\n",
       "\n",
       "    .dataframe thead th {\n",
       "        text-align: right;\n",
       "    }\n",
       "</style>\n",
       "<table border=\"1\" class=\"dataframe\">\n",
       "  <thead>\n",
       "    <tr style=\"text-align: right;\">\n",
       "      <th></th>\n",
       "      <th>file_name</th>\n",
       "      <th>path</th>\n",
       "      <th>text</th>\n",
       "    </tr>\n",
       "  </thead>\n",
       "  <tbody>\n",
       "    <tr>\n",
       "      <th>0</th>\n",
       "      <td>R (on the application of AS) v Liverpool City ...</td>\n",
       "      <td>MD_splits/train/R (on the application of AS) v...</td>\n",
       "      <td># R (on the application of AS) v Liverpool Cit...</td>\n",
       "    </tr>\n",
       "    <tr>\n",
       "      <th>1</th>\n",
       "      <td>R (on the application of Y) v Secretary of Sta...</td>\n",
       "      <td>MD_splits/train/R (on the application of Y) v ...</td>\n",
       "      <td># R (on the application of Y) v Secretary of S...</td>\n",
       "    </tr>\n",
       "    <tr>\n",
       "      <th>2</th>\n",
       "      <td>R (on the application of SPM) v Secretary of S...</td>\n",
       "      <td>MD_splits/train/R (on the application of SPM) ...</td>\n",
       "      <td>for Refugee Women) v Secretary of State for th...</td>\n",
       "    </tr>\n",
       "    <tr>\n",
       "      <th>3</th>\n",
       "      <td>Re JR147_s Application for Judicial Review</td>\n",
       "      <td>MD_splits/train/Re JR147_s Application for Jud...</td>\n",
       "      <td># Re JR147's Application for Judicial Review [...</td>\n",
       "    </tr>\n",
       "    <tr>\n",
       "      <th>4</th>\n",
       "      <td>Sheikh v The Law Society of England and Wales ...</td>\n",
       "      <td>MD_splits/train/Sheikh v The Law Society of En...</td>\n",
       "      <td># Sheikh v The Law Society of England and Wale...</td>\n",
       "    </tr>\n",
       "  </tbody>\n",
       "</table>\n",
       "</div>"
      ],
      "text/plain": [
       "                                           file_name  \\\n",
       "0  R (on the application of AS) v Liverpool City ...   \n",
       "1  R (on the application of Y) v Secretary of Sta...   \n",
       "2  R (on the application of SPM) v Secretary of S...   \n",
       "3         Re JR147_s Application for Judicial Review   \n",
       "4  Sheikh v The Law Society of England and Wales ...   \n",
       "\n",
       "                                                path  \\\n",
       "0  MD_splits/train/R (on the application of AS) v...   \n",
       "1  MD_splits/train/R (on the application of Y) v ...   \n",
       "2  MD_splits/train/R (on the application of SPM) ...   \n",
       "3  MD_splits/train/Re JR147_s Application for Jud...   \n",
       "4  MD_splits/train/Sheikh v The Law Society of En...   \n",
       "\n",
       "                                                text  \n",
       "0  # R (on the application of AS) v Liverpool Cit...  \n",
       "1  # R (on the application of Y) v Secretary of S...  \n",
       "2  for Refugee Women) v Secretary of State for th...  \n",
       "3  # Re JR147's Application for Judicial Review [...  \n",
       "4  # Sheikh v The Law Society of England and Wale...  "
      ]
     },
     "execution_count": 6,
     "metadata": {},
     "output_type": "execute_result"
    }
   ],
   "source": [
    "train_frame = load_split(doc_splits['train'])\n",
    "val_frame = load_split(doc_splits['val'])\n",
    "train_frame.head()"
   ]
  },
  {
   "cell_type": "code",
   "execution_count": 7,
   "metadata": {
    "colab": {
     "base_uri": "https://localhost:8080/"
    },
    "executionInfo": {
     "elapsed": 8,
     "status": "ok",
     "timestamp": 1734269922567,
     "user": {
      "displayName": "K F",
      "userId": "14548814325396358212"
     },
     "user_tz": -210
    },
    "id": "McjDTVRl1EYJ",
    "outputId": "bade688b-39a9-4f8b-cad6-bf57141ebb6b"
   },
   "outputs": [
    {
     "data": {
      "text/plain": [
       "Dataset({\n",
       "    features: ['file_name', 'path', 'text'],\n",
       "    num_rows: 342\n",
       "})"
      ]
     },
     "execution_count": 7,
     "metadata": {},
     "output_type": "execute_result"
    }
   ],
   "source": [
    "train_dataset = Dataset.from_pandas(train_frame)\n",
    "train_dataset"
   ]
  },
  {
   "cell_type": "markdown",
   "metadata": {
    "id": "wOEzYHX-fvek"
   },
   "source": [
    "## Process the docs"
   ]
  },
  {
   "cell_type": "markdown",
   "metadata": {
    "id": "v6zEP0AbhjMt"
   },
   "source": [
    "Load the model and tokenizer:"
   ]
  },
  {
   "cell_type": "code",
   "execution_count": 8,
   "metadata": {
    "id": "HdbTHUYJiALa"
   },
   "outputs": [],
   "source": [
    "from transformers import set_seed, BitsAndBytesConfig, DataCollatorWithPadding\n",
    "set_seed(0)"
   ]
  },
  {
   "cell_type": "code",
   "execution_count": 9,
   "metadata": {
    "colab": {
     "referenced_widgets": [
      "794b630c841d402e9e325b92db96198a",
      "f5a5768cb8944a58906b37c9ac6a14f9",
      "25a8a68557824d2ca3b96e7137185121",
      "7f764f6cad174b73be44ae6226809a1a",
      "6e7435c63c934d85b6538b03b429ac6c",
      "dd6ee30b24804d66845863d49c24b65d",
      "2359fbb82b944638852681a7dc1224a4",
      "f5f6e26cc77c4ceb801c87917c76d771",
      "1db6766cec2b4de8a8e83be64478663d",
      "8473f3e1ff934e56b7181ff6c20ae9ed",
      "9185f345a9c743afb44b1335170a18fc",
      "14297ce1a18a440db0e39cbec5c6acf8",
      "2d6cf0609cb54b82bd02472fff00b4fa",
      "26ea1796f585421d8e862d711c8891a9",
      "48f45809639246e3820a0759fc4136fb",
      "e81609528dd947ad8f7e1274337199b7",
      "24c5ea9505304a3896c32923b31a2405",
      "33d177de22514c23b88ff6e2a055fd35",
      "606b44d1d2694dc6933f199580d79be7",
      "8680e6b04af34ae094abcd81d7d1e9cd",
      "f864497fb84541b0b48399f3f490025c"
     ]
    },
    "id": "4T0p1TzIfvLx",
    "outputId": "3a246f6c-5e53-44b0-ca89-1707194696f8"
   },
   "outputs": [
    {
     "data": {
      "application/vnd.jupyter.widget-view+json": {
       "model_id": "204ae755c575419e857ffcb390923704",
       "version_major": 2,
       "version_minor": 0
      },
      "text/plain": [
       "Loading checkpoint shards:   0%|          | 0/2 [00:00<?, ?it/s]"
      ]
     },
     "metadata": {},
     "output_type": "display_data"
    }
   ],
   "source": [
    "model_name = \"meta-llama/Llama-3.2-3B-Instruct\"\n",
    "tokenizer = AutoTokenizer.from_pretrained(model_name, padding_side=\"left\")\n",
    "# Most LLMs don't have a pad token by default\n",
    "tokenizer.pad_token = tokenizer.eos_token\n",
    "model = AutoModelForCausalLM.from_pretrained(\n",
    "    model_name,\n",
    "    torch_dtype=torch.bfloat16,\n",
    "    device_map=\"auto\",\n",
    "    attn_implementation=\"flash_attention_2\", # FlashAttention-2 can be combined with other optimization techniques like quantization\n",
    "    #attn_implementation=\"sdpa\",\n",
    "    quantization_config=BitsAndBytesConfig(load_in_8bit=True)\n",
    ")"
   ]
  },
  {
   "cell_type": "code",
   "execution_count": 10,
   "metadata": {
    "id": "qwRNJKqpMQX4",
    "outputId": "da0042a7-a30f-40e3-a6b1-01808921e27d"
   },
   "outputs": [
    {
     "name": "stdout",
     "output_type": "stream",
     "text": [
      "Wed Dec 18 12:20:52 2024       \n",
      "+-----------------------------------------------------------------------------------------+\n",
      "| NVIDIA-SMI 550.127.05             Driver Version: 550.127.05     CUDA Version: 12.4     |\n",
      "|-----------------------------------------+------------------------+----------------------+\n",
      "| GPU  Name                 Persistence-M | Bus-Id          Disp.A | Volatile Uncorr. ECC |\n",
      "| Fan  Temp   Perf          Pwr:Usage/Cap |           Memory-Usage | GPU-Util  Compute M. |\n",
      "|                                         |                        |               MIG M. |\n",
      "|=========================================+========================+======================|\n",
      "|   0  NVIDIA RTX A4000               On  |   00000000:09:00.0 Off |                  Off |\n",
      "| 50%   64C    P2             38W /  140W |    3703MiB /  16376MiB |      0%      Default |\n",
      "|                                         |                        |                  N/A |\n",
      "+-----------------------------------------+------------------------+----------------------+\n",
      "                                                                                         \n",
      "+-----------------------------------------------------------------------------------------+\n",
      "| Processes:                                                                              |\n",
      "|  GPU   GI   CI        PID   Type   Process name                              GPU Memory |\n",
      "|        ID   ID                                                               Usage      |\n",
      "|=========================================================================================|\n",
      "+-----------------------------------------------------------------------------------------+\n"
     ]
    }
   ],
   "source": [
    "!nvidia-smi"
   ]
  },
  {
   "cell_type": "code",
   "execution_count": 11,
   "metadata": {
    "id": "LA1Klkqme5WG"
   },
   "outputs": [],
   "source": [
    "# according to one analysis the effective context lenght of Llama is 32k so I use that.\n",
    "# reduced max_len due to GPU OOM issues.\n",
    "max_length = int(10e3)\n",
    "stride = int(.3 * max_length)\n",
    "\n",
    "with open('./instruction.txt', 'r') as f:\n",
    "    instructions = f.read()\n",
    "\n",
    "\n",
    "def split_text_add_instruction_tokenize(examples):\n",
    "    '''\n",
    "    Splits input text into chuncks of size max_length by tokenizing it,\n",
    "    maps that back to the raw text then adds the instruction template.\n",
    "    Finally tokenizes the new text to get the final model input.\n",
    "    '''\n",
    "    result = tokenizer(\n",
    "        examples[\"text\"],\n",
    "        max_length=max_length,\n",
    "        padding=False,\n",
    "        stride=stride,\n",
    "        truncation=True,\n",
    "        return_overflowing_tokens=True,\n",
    "        return_offsets_mapping=True, #  returns (char_start, char_end) for each token.\n",
    "    )\n",
    "\n",
    "    # Extract mapping between new and old indices\n",
    "    sample_maps = result.pop(\"overflow_to_sample_mapping\")\n",
    "    for key, values in examples.items():\n",
    "        if key != 'text':\n",
    "            result[key] = [values[i] for i in sample_maps]\n",
    "\n",
    "    # make the raw text match the tokenized ids and add the instruction\n",
    "    offsets_mappings = result.pop('offset_mapping')\n",
    "    result['text'] = []\n",
    "    for off_maps, samp_id in zip(offsets_mappings, sample_maps):\n",
    "        # remove special tokens\n",
    "        off_maps = torch.tensor(off_maps)\n",
    "        non_special_mask = off_maps[:,0] != off_maps[:,1]\n",
    "        non_special_tokens_mappings = off_maps[non_special_mask]\n",
    "        # extract matching text\n",
    "        text_start = non_special_tokens_mappings.min()\n",
    "        text_end = non_special_tokens_mappings.max()\n",
    "        original_text = examples[\"text\"][samp_id]\n",
    "        document_section = original_text[text_start:text_end]\n",
    "        # add the instruction prompt\n",
    "        intsruction_and_document = (\n",
    "            instructions +\n",
    "            'The section of the document:\\n<section>' +\n",
    "            document_section +\n",
    "            '</section>\\nJSON Answer:\\n{'\n",
    "        )\n",
    "        result['text'].append(intsruction_and_document)\n",
    "\n",
    "    final_result = tokenizer(\n",
    "        result[\"text\"],\n",
    "        truncation=False,\n",
    "        padding=False,\n",
    "        # can't convert to tensor here since it will try to collate into batches\n",
    "        #return_tensors=\"pt\"\n",
    "    )\n",
    "    final_result['file_name'] = result['file_name']\n",
    "    final_result['path'] = result['path']\n",
    "    final_result['text'] = result['text']\n",
    "\n",
    "    return final_result"
   ]
  },
  {
   "cell_type": "code",
   "execution_count": 12,
   "metadata": {
    "id": "5f61JPAif612"
   },
   "outputs": [
    {
     "data": {
      "application/vnd.jupyter.widget-view+json": {
       "model_id": "c44123f7cb5942e290a3a0dc33306d4f",
       "version_major": 2,
       "version_minor": 0
      },
      "text/plain": [
       "Map:   0%|          | 0/342 [00:00<?, ? examples/s]"
      ]
     },
     "metadata": {},
     "output_type": "display_data"
    },
    {
     "data": {
      "application/vnd.jupyter.widget-view+json": {
       "model_id": "00e9f36852e9485d8dbcd262034cc6fb",
       "version_major": 2,
       "version_minor": 0
      },
      "text/plain": [
       "Saving the dataset (0/1 shards):   0%|          | 0/786 [00:00<?, ? examples/s]"
      ]
     },
     "metadata": {},
     "output_type": "display_data"
    }
   ],
   "source": [
    "tokenized_save_path = './my_HF_Arrow_Dataset/trainset_tokenized'\n",
    "\n",
    "\n",
    "trainset_tokenized = train_dataset.map(split_text_add_instruction_tokenize, batched=True, batch_size=300)\n",
    "trainset_tokenized = trainset_tokenized.with_format(\"torch\")\n",
    "trainset_tokenized.save_to_disk(tokenized_save_path)\n",
    "\n",
    "\n",
    "# trainset_tokenized = load_from_disk(tokenized_save_path)\n",
    "# trainset_tokenized = trainset_tokenized.with_format(\"torch\")"
   ]
  },
  {
   "cell_type": "code",
   "execution_count": 13,
   "metadata": {
    "id": "CZa9AMkxtiP4",
    "outputId": "5da6ad03-20bb-4658-c61a-c4af15fcdc7d"
   },
   "outputs": [
    {
     "data": {
      "text/plain": [
       "Dataset({\n",
       "    features: ['file_name', 'path', 'text', 'input_ids', 'attention_mask'],\n",
       "    num_rows: 786\n",
       "})"
      ]
     },
     "execution_count": 13,
     "metadata": {},
     "output_type": "execute_result"
    }
   ],
   "source": [
    "trainset_tokenized"
   ]
  },
  {
   "cell_type": "code",
   "execution_count": 14,
   "metadata": {
    "id": "iEB9_Js2tiP4"
   },
   "outputs": [],
   "source": [
    "# for text in tokenizer.batch_decode(trainset_tokenized['input_ids'][:3], skip_special_tokens=True):\n",
    "#     print('_'*50)\n",
    "#     print(text)"
   ]
  },
  {
   "cell_type": "code",
   "execution_count": 15,
   "metadata": {
    "id": "hmliVB7DkJn2"
   },
   "outputs": [],
   "source": [
    "# for i in range(4):\n",
    "#     print('_'*50)\n",
    "#     print(trainset_tokenized['text'][i])"
   ]
  },
  {
   "cell_type": "code",
   "execution_count": 16,
   "metadata": {
    "id": "s51JwNhgj_6l",
    "outputId": "ea1bfe6f-84ba-411d-ea7e-8b271a7d6d0a"
   },
   "outputs": [
    {
     "data": {
      "text/plain": [
       "GenerationConfig {\n",
       "  \"bos_token_id\": 128000,\n",
       "  \"do_sample\": true,\n",
       "  \"eos_token_id\": [\n",
       "    128001,\n",
       "    128008,\n",
       "    128009\n",
       "  ],\n",
       "  \"temperature\": 0.6,\n",
       "  \"top_p\": 0.9\n",
       "}"
      ]
     },
     "execution_count": 16,
     "metadata": {},
     "output_type": "execute_result"
    }
   ],
   "source": [
    "model.generation_config"
   ]
  },
  {
   "cell_type": "code",
   "execution_count": 17,
   "metadata": {
    "id": "javWIDBptiP5"
   },
   "outputs": [],
   "source": [
    "from transformers import GenerationConfig\n",
    "generation_config = GenerationConfig(\n",
    "    max_new_tokens=400,\n",
    "    do_sample=True,\n",
    "    eos_token_id=model.config.eos_token_id,\n",
    "    bos_token_id=model.config.bos_token_id,\n",
    "    stop_strings= '}',\n",
    "    #num_return_sequences=3,\n",
    ")"
   ]
  },
  {
   "cell_type": "code",
   "execution_count": 18,
   "metadata": {
    "id": "GNBnRLXf2z6i"
   },
   "outputs": [],
   "source": [
    "# default is to pad to the longest sequence in the batch\n",
    "# since we have set side left when loading the tokenizer it should do left padding\n",
    "dynamic_padder = DataCollatorWithPadding(tokenizer=tokenizer)\n",
    "\n",
    "def generate_answer(context):\n",
    "    model_inputs = {k:context[k] for k in ['input_ids','attention_mask']}\n",
    "    batched_inputs = dynamic_padder(model_inputs)\n",
    "    batched_inputs = {k:v.cuda() for k,v in batched_inputs.items()}\n",
    "    outputs = model.generate(\n",
    "            **batched_inputs,\n",
    "            generation_config=generation_config,\n",
    "            tokenizer=tokenizer\n",
    "        )\n",
    "    answer = tokenizer.batch_decode(outputs, skip_special_tokens=True)\n",
    "    return {'model_answer': answer}\n"
   ]
  },
  {
   "cell_type": "code",
   "execution_count": 19,
   "metadata": {
    "id": "STNNb9cYtiP5",
    "scrolled": true
   },
   "outputs": [
    {
     "data": {
      "application/vnd.jupyter.widget-view+json": {
       "model_id": "ca95cb1d46f442248aa2f8403d794a8b",
       "version_major": 2,
       "version_minor": 0
      },
      "text/plain": [
       "Map:   0%|          | 0/786 [00:00<?, ? examples/s]"
      ]
     },
     "metadata": {},
     "output_type": "display_data"
    },
    {
     "name": "stderr",
     "output_type": "stream",
     "text": [
      "Setting `pad_token_id` to `eos_token_id`:128001 for open-end generation.\n",
      "/opt/conda/lib/python3.11/site-packages/bitsandbytes/autograd/_functions.py:315: UserWarning: MatMul8bitLt: inputs will be cast from torch.bfloat16 to float16 during quantization\n",
      "  warnings.warn(f\"MatMul8bitLt: inputs will be cast from {A.dtype} to float16 during quantization\")\n",
      "Setting `pad_token_id` to `eos_token_id`:128001 for open-end generation.\n",
      "Setting `pad_token_id` to `eos_token_id`:128001 for open-end generation.\n",
      "Setting `pad_token_id` to `eos_token_id`:128001 for open-end generation.\n",
      "Setting `pad_token_id` to `eos_token_id`:128001 for open-end generation.\n",
      "Setting `pad_token_id` to `eos_token_id`:128001 for open-end generation.\n",
      "Setting `pad_token_id` to `eos_token_id`:128001 for open-end generation.\n",
      "Setting `pad_token_id` to `eos_token_id`:128001 for open-end generation.\n",
      "Setting `pad_token_id` to `eos_token_id`:128001 for open-end generation.\n",
      "Setting `pad_token_id` to `eos_token_id`:128001 for open-end generation.\n",
      "Setting `pad_token_id` to `eos_token_id`:128001 for open-end generation.\n",
      "Setting `pad_token_id` to `eos_token_id`:128001 for open-end generation.\n",
      "Setting `pad_token_id` to `eos_token_id`:128001 for open-end generation.\n",
      "Setting `pad_token_id` to `eos_token_id`:128001 for open-end generation.\n",
      "Setting `pad_token_id` to `eos_token_id`:128001 for open-end generation.\n",
      "Setting `pad_token_id` to `eos_token_id`:128001 for open-end generation.\n",
      "Setting `pad_token_id` to `eos_token_id`:128001 for open-end generation.\n",
      "Setting `pad_token_id` to `eos_token_id`:128001 for open-end generation.\n",
      "Setting `pad_token_id` to `eos_token_id`:128001 for open-end generation.\n",
      "Setting `pad_token_id` to `eos_token_id`:128001 for open-end generation.\n",
      "Setting `pad_token_id` to `eos_token_id`:128001 for open-end generation.\n",
      "Setting `pad_token_id` to `eos_token_id`:128001 for open-end generation.\n",
      "Setting `pad_token_id` to `eos_token_id`:128001 for open-end generation.\n",
      "Setting `pad_token_id` to `eos_token_id`:128001 for open-end generation.\n",
      "Setting `pad_token_id` to `eos_token_id`:128001 for open-end generation.\n",
      "Setting `pad_token_id` to `eos_token_id`:128001 for open-end generation.\n",
      "Setting `pad_token_id` to `eos_token_id`:128001 for open-end generation.\n",
      "Setting `pad_token_id` to `eos_token_id`:128001 for open-end generation.\n",
      "Setting `pad_token_id` to `eos_token_id`:128001 for open-end generation.\n",
      "Setting `pad_token_id` to `eos_token_id`:128001 for open-end generation.\n",
      "Setting `pad_token_id` to `eos_token_id`:128001 for open-end generation.\n",
      "Setting `pad_token_id` to `eos_token_id`:128001 for open-end generation.\n",
      "Setting `pad_token_id` to `eos_token_id`:128001 for open-end generation.\n",
      "Setting `pad_token_id` to `eos_token_id`:128001 for open-end generation.\n",
      "Setting `pad_token_id` to `eos_token_id`:128001 for open-end generation.\n",
      "Setting `pad_token_id` to `eos_token_id`:128001 for open-end generation.\n",
      "Setting `pad_token_id` to `eos_token_id`:128001 for open-end generation.\n",
      "Setting `pad_token_id` to `eos_token_id`:128001 for open-end generation.\n",
      "Setting `pad_token_id` to `eos_token_id`:128001 for open-end generation.\n",
      "Setting `pad_token_id` to `eos_token_id`:128001 for open-end generation.\n",
      "Setting `pad_token_id` to `eos_token_id`:128001 for open-end generation.\n",
      "Setting `pad_token_id` to `eos_token_id`:128001 for open-end generation.\n",
      "Setting `pad_token_id` to `eos_token_id`:128001 for open-end generation.\n",
      "Setting `pad_token_id` to `eos_token_id`:128001 for open-end generation.\n",
      "Setting `pad_token_id` to `eos_token_id`:128001 for open-end generation.\n",
      "Setting `pad_token_id` to `eos_token_id`:128001 for open-end generation.\n",
      "Setting `pad_token_id` to `eos_token_id`:128001 for open-end generation.\n",
      "Setting `pad_token_id` to `eos_token_id`:128001 for open-end generation.\n",
      "Setting `pad_token_id` to `eos_token_id`:128001 for open-end generation.\n",
      "Setting `pad_token_id` to `eos_token_id`:128001 for open-end generation.\n",
      "Setting `pad_token_id` to `eos_token_id`:128001 for open-end generation.\n",
      "Setting `pad_token_id` to `eos_token_id`:128001 for open-end generation.\n",
      "Setting `pad_token_id` to `eos_token_id`:128001 for open-end generation.\n",
      "Setting `pad_token_id` to `eos_token_id`:128001 for open-end generation.\n",
      "Setting `pad_token_id` to `eos_token_id`:128001 for open-end generation.\n",
      "Setting `pad_token_id` to `eos_token_id`:128001 for open-end generation.\n",
      "Setting `pad_token_id` to `eos_token_id`:128001 for open-end generation.\n",
      "Setting `pad_token_id` to `eos_token_id`:128001 for open-end generation.\n",
      "Setting `pad_token_id` to `eos_token_id`:128001 for open-end generation.\n",
      "Setting `pad_token_id` to `eos_token_id`:128001 for open-end generation.\n",
      "Setting `pad_token_id` to `eos_token_id`:128001 for open-end generation.\n",
      "Setting `pad_token_id` to `eos_token_id`:128001 for open-end generation.\n",
      "Setting `pad_token_id` to `eos_token_id`:128001 for open-end generation.\n",
      "Setting `pad_token_id` to `eos_token_id`:128001 for open-end generation.\n",
      "Setting `pad_token_id` to `eos_token_id`:128001 for open-end generation.\n",
      "Setting `pad_token_id` to `eos_token_id`:128001 for open-end generation.\n",
      "Setting `pad_token_id` to `eos_token_id`:128001 for open-end generation.\n",
      "Setting `pad_token_id` to `eos_token_id`:128001 for open-end generation.\n",
      "Setting `pad_token_id` to `eos_token_id`:128001 for open-end generation.\n",
      "Setting `pad_token_id` to `eos_token_id`:128001 for open-end generation.\n",
      "Setting `pad_token_id` to `eos_token_id`:128001 for open-end generation.\n",
      "Setting `pad_token_id` to `eos_token_id`:128001 for open-end generation.\n",
      "Setting `pad_token_id` to `eos_token_id`:128001 for open-end generation.\n",
      "Setting `pad_token_id` to `eos_token_id`:128001 for open-end generation.\n",
      "Setting `pad_token_id` to `eos_token_id`:128001 for open-end generation.\n",
      "Setting `pad_token_id` to `eos_token_id`:128001 for open-end generation.\n",
      "Setting `pad_token_id` to `eos_token_id`:128001 for open-end generation.\n",
      "Setting `pad_token_id` to `eos_token_id`:128001 for open-end generation.\n",
      "Setting `pad_token_id` to `eos_token_id`:128001 for open-end generation.\n",
      "Setting `pad_token_id` to `eos_token_id`:128001 for open-end generation.\n",
      "Setting `pad_token_id` to `eos_token_id`:128001 for open-end generation.\n",
      "Setting `pad_token_id` to `eos_token_id`:128001 for open-end generation.\n",
      "Setting `pad_token_id` to `eos_token_id`:128001 for open-end generation.\n",
      "Setting `pad_token_id` to `eos_token_id`:128001 for open-end generation.\n",
      "Setting `pad_token_id` to `eos_token_id`:128001 for open-end generation.\n",
      "Setting `pad_token_id` to `eos_token_id`:128001 for open-end generation.\n",
      "Setting `pad_token_id` to `eos_token_id`:128001 for open-end generation.\n",
      "Setting `pad_token_id` to `eos_token_id`:128001 for open-end generation.\n",
      "Setting `pad_token_id` to `eos_token_id`:128001 for open-end generation.\n",
      "Setting `pad_token_id` to `eos_token_id`:128001 for open-end generation.\n",
      "Setting `pad_token_id` to `eos_token_id`:128001 for open-end generation.\n",
      "Setting `pad_token_id` to `eos_token_id`:128001 for open-end generation.\n",
      "Setting `pad_token_id` to `eos_token_id`:128001 for open-end generation.\n",
      "Setting `pad_token_id` to `eos_token_id`:128001 for open-end generation.\n",
      "Setting `pad_token_id` to `eos_token_id`:128001 for open-end generation.\n",
      "Setting `pad_token_id` to `eos_token_id`:128001 for open-end generation.\n",
      "Setting `pad_token_id` to `eos_token_id`:128001 for open-end generation.\n",
      "Setting `pad_token_id` to `eos_token_id`:128001 for open-end generation.\n",
      "Setting `pad_token_id` to `eos_token_id`:128001 for open-end generation.\n",
      "Setting `pad_token_id` to `eos_token_id`:128001 for open-end generation.\n",
      "Setting `pad_token_id` to `eos_token_id`:128001 for open-end generation.\n",
      "Setting `pad_token_id` to `eos_token_id`:128001 for open-end generation.\n",
      "Setting `pad_token_id` to `eos_token_id`:128001 for open-end generation.\n",
      "Setting `pad_token_id` to `eos_token_id`:128001 for open-end generation.\n",
      "Setting `pad_token_id` to `eos_token_id`:128001 for open-end generation.\n",
      "Setting `pad_token_id` to `eos_token_id`:128001 for open-end generation.\n",
      "Setting `pad_token_id` to `eos_token_id`:128001 for open-end generation.\n",
      "Setting `pad_token_id` to `eos_token_id`:128001 for open-end generation.\n",
      "Setting `pad_token_id` to `eos_token_id`:128001 for open-end generation.\n",
      "Setting `pad_token_id` to `eos_token_id`:128001 for open-end generation.\n",
      "Setting `pad_token_id` to `eos_token_id`:128001 for open-end generation.\n",
      "Setting `pad_token_id` to `eos_token_id`:128001 for open-end generation.\n",
      "Setting `pad_token_id` to `eos_token_id`:128001 for open-end generation.\n",
      "Setting `pad_token_id` to `eos_token_id`:128001 for open-end generation.\n",
      "Setting `pad_token_id` to `eos_token_id`:128001 for open-end generation.\n",
      "Setting `pad_token_id` to `eos_token_id`:128001 for open-end generation.\n",
      "Setting `pad_token_id` to `eos_token_id`:128001 for open-end generation.\n",
      "Setting `pad_token_id` to `eos_token_id`:128001 for open-end generation.\n",
      "Setting `pad_token_id` to `eos_token_id`:128001 for open-end generation.\n",
      "Setting `pad_token_id` to `eos_token_id`:128001 for open-end generation.\n",
      "Setting `pad_token_id` to `eos_token_id`:128001 for open-end generation.\n",
      "Setting `pad_token_id` to `eos_token_id`:128001 for open-end generation.\n",
      "Setting `pad_token_id` to `eos_token_id`:128001 for open-end generation.\n",
      "Setting `pad_token_id` to `eos_token_id`:128001 for open-end generation.\n",
      "Setting `pad_token_id` to `eos_token_id`:128001 for open-end generation.\n",
      "Setting `pad_token_id` to `eos_token_id`:128001 for open-end generation.\n",
      "Setting `pad_token_id` to `eos_token_id`:128001 for open-end generation.\n",
      "Setting `pad_token_id` to `eos_token_id`:128001 for open-end generation.\n",
      "Setting `pad_token_id` to `eos_token_id`:128001 for open-end generation.\n",
      "Setting `pad_token_id` to `eos_token_id`:128001 for open-end generation.\n",
      "Setting `pad_token_id` to `eos_token_id`:128001 for open-end generation.\n",
      "Setting `pad_token_id` to `eos_token_id`:128001 for open-end generation.\n",
      "Setting `pad_token_id` to `eos_token_id`:128001 for open-end generation.\n",
      "Setting `pad_token_id` to `eos_token_id`:128001 for open-end generation.\n",
      "Setting `pad_token_id` to `eos_token_id`:128001 for open-end generation.\n",
      "Setting `pad_token_id` to `eos_token_id`:128001 for open-end generation.\n",
      "Setting `pad_token_id` to `eos_token_id`:128001 for open-end generation.\n",
      "Setting `pad_token_id` to `eos_token_id`:128001 for open-end generation.\n",
      "Setting `pad_token_id` to `eos_token_id`:128001 for open-end generation.\n",
      "Setting `pad_token_id` to `eos_token_id`:128001 for open-end generation.\n",
      "Setting `pad_token_id` to `eos_token_id`:128001 for open-end generation.\n",
      "Setting `pad_token_id` to `eos_token_id`:128001 for open-end generation.\n",
      "Setting `pad_token_id` to `eos_token_id`:128001 for open-end generation.\n",
      "Setting `pad_token_id` to `eos_token_id`:128001 for open-end generation.\n",
      "Setting `pad_token_id` to `eos_token_id`:128001 for open-end generation.\n",
      "Setting `pad_token_id` to `eos_token_id`:128001 for open-end generation.\n",
      "Setting `pad_token_id` to `eos_token_id`:128001 for open-end generation.\n",
      "Setting `pad_token_id` to `eos_token_id`:128001 for open-end generation.\n",
      "Setting `pad_token_id` to `eos_token_id`:128001 for open-end generation.\n",
      "Setting `pad_token_id` to `eos_token_id`:128001 for open-end generation.\n",
      "Setting `pad_token_id` to `eos_token_id`:128001 for open-end generation.\n",
      "Setting `pad_token_id` to `eos_token_id`:128001 for open-end generation.\n",
      "Setting `pad_token_id` to `eos_token_id`:128001 for open-end generation.\n",
      "Setting `pad_token_id` to `eos_token_id`:128001 for open-end generation.\n",
      "Setting `pad_token_id` to `eos_token_id`:128001 for open-end generation.\n",
      "Setting `pad_token_id` to `eos_token_id`:128001 for open-end generation.\n",
      "Setting `pad_token_id` to `eos_token_id`:128001 for open-end generation.\n",
      "Setting `pad_token_id` to `eos_token_id`:128001 for open-end generation.\n",
      "Setting `pad_token_id` to `eos_token_id`:128001 for open-end generation.\n",
      "Setting `pad_token_id` to `eos_token_id`:128001 for open-end generation.\n",
      "Setting `pad_token_id` to `eos_token_id`:128001 for open-end generation.\n",
      "Setting `pad_token_id` to `eos_token_id`:128001 for open-end generation.\n",
      "Setting `pad_token_id` to `eos_token_id`:128001 for open-end generation.\n",
      "Setting `pad_token_id` to `eos_token_id`:128001 for open-end generation.\n",
      "Setting `pad_token_id` to `eos_token_id`:128001 for open-end generation.\n",
      "Setting `pad_token_id` to `eos_token_id`:128001 for open-end generation.\n",
      "Setting `pad_token_id` to `eos_token_id`:128001 for open-end generation.\n",
      "Setting `pad_token_id` to `eos_token_id`:128001 for open-end generation.\n",
      "Setting `pad_token_id` to `eos_token_id`:128001 for open-end generation.\n",
      "Setting `pad_token_id` to `eos_token_id`:128001 for open-end generation.\n",
      "Setting `pad_token_id` to `eos_token_id`:128001 for open-end generation.\n",
      "Setting `pad_token_id` to `eos_token_id`:128001 for open-end generation.\n",
      "Setting `pad_token_id` to `eos_token_id`:128001 for open-end generation.\n",
      "Setting `pad_token_id` to `eos_token_id`:128001 for open-end generation.\n",
      "Setting `pad_token_id` to `eos_token_id`:128001 for open-end generation.\n",
      "Setting `pad_token_id` to `eos_token_id`:128001 for open-end generation.\n",
      "Setting `pad_token_id` to `eos_token_id`:128001 for open-end generation.\n",
      "Setting `pad_token_id` to `eos_token_id`:128001 for open-end generation.\n",
      "Setting `pad_token_id` to `eos_token_id`:128001 for open-end generation.\n",
      "Setting `pad_token_id` to `eos_token_id`:128001 for open-end generation.\n",
      "Setting `pad_token_id` to `eos_token_id`:128001 for open-end generation.\n",
      "Setting `pad_token_id` to `eos_token_id`:128001 for open-end generation.\n",
      "Setting `pad_token_id` to `eos_token_id`:128001 for open-end generation.\n",
      "Setting `pad_token_id` to `eos_token_id`:128001 for open-end generation.\n",
      "Setting `pad_token_id` to `eos_token_id`:128001 for open-end generation.\n",
      "Setting `pad_token_id` to `eos_token_id`:128001 for open-end generation.\n",
      "Setting `pad_token_id` to `eos_token_id`:128001 for open-end generation.\n",
      "Setting `pad_token_id` to `eos_token_id`:128001 for open-end generation.\n",
      "Setting `pad_token_id` to `eos_token_id`:128001 for open-end generation.\n",
      "Setting `pad_token_id` to `eos_token_id`:128001 for open-end generation.\n",
      "Setting `pad_token_id` to `eos_token_id`:128001 for open-end generation.\n",
      "Setting `pad_token_id` to `eos_token_id`:128001 for open-end generation.\n",
      "Setting `pad_token_id` to `eos_token_id`:128001 for open-end generation.\n",
      "Setting `pad_token_id` to `eos_token_id`:128001 for open-end generation.\n",
      "Setting `pad_token_id` to `eos_token_id`:128001 for open-end generation.\n",
      "Setting `pad_token_id` to `eos_token_id`:128001 for open-end generation.\n",
      "Setting `pad_token_id` to `eos_token_id`:128001 for open-end generation.\n",
      "Setting `pad_token_id` to `eos_token_id`:128001 for open-end generation.\n",
      "Setting `pad_token_id` to `eos_token_id`:128001 for open-end generation.\n",
      "Setting `pad_token_id` to `eos_token_id`:128001 for open-end generation.\n",
      "Setting `pad_token_id` to `eos_token_id`:128001 for open-end generation.\n",
      "Setting `pad_token_id` to `eos_token_id`:128001 for open-end generation.\n",
      "Setting `pad_token_id` to `eos_token_id`:128001 for open-end generation.\n",
      "Setting `pad_token_id` to `eos_token_id`:128001 for open-end generation.\n",
      "Setting `pad_token_id` to `eos_token_id`:128001 for open-end generation.\n",
      "Setting `pad_token_id` to `eos_token_id`:128001 for open-end generation.\n",
      "Setting `pad_token_id` to `eos_token_id`:128001 for open-end generation.\n",
      "Setting `pad_token_id` to `eos_token_id`:128001 for open-end generation.\n",
      "Setting `pad_token_id` to `eos_token_id`:128001 for open-end generation.\n",
      "Setting `pad_token_id` to `eos_token_id`:128001 for open-end generation.\n",
      "Setting `pad_token_id` to `eos_token_id`:128001 for open-end generation.\n",
      "Setting `pad_token_id` to `eos_token_id`:128001 for open-end generation.\n",
      "Setting `pad_token_id` to `eos_token_id`:128001 for open-end generation.\n",
      "Setting `pad_token_id` to `eos_token_id`:128001 for open-end generation.\n",
      "Setting `pad_token_id` to `eos_token_id`:128001 for open-end generation.\n",
      "Setting `pad_token_id` to `eos_token_id`:128001 for open-end generation.\n",
      "Setting `pad_token_id` to `eos_token_id`:128001 for open-end generation.\n",
      "Setting `pad_token_id` to `eos_token_id`:128001 for open-end generation.\n",
      "Setting `pad_token_id` to `eos_token_id`:128001 for open-end generation.\n",
      "Setting `pad_token_id` to `eos_token_id`:128001 for open-end generation.\n",
      "Setting `pad_token_id` to `eos_token_id`:128001 for open-end generation.\n",
      "Setting `pad_token_id` to `eos_token_id`:128001 for open-end generation.\n",
      "Setting `pad_token_id` to `eos_token_id`:128001 for open-end generation.\n",
      "Setting `pad_token_id` to `eos_token_id`:128001 for open-end generation.\n",
      "Setting `pad_token_id` to `eos_token_id`:128001 for open-end generation.\n",
      "Setting `pad_token_id` to `eos_token_id`:128001 for open-end generation.\n",
      "Setting `pad_token_id` to `eos_token_id`:128001 for open-end generation.\n",
      "Setting `pad_token_id` to `eos_token_id`:128001 for open-end generation.\n",
      "Setting `pad_token_id` to `eos_token_id`:128001 for open-end generation.\n",
      "Setting `pad_token_id` to `eos_token_id`:128001 for open-end generation.\n",
      "Setting `pad_token_id` to `eos_token_id`:128001 for open-end generation.\n",
      "Setting `pad_token_id` to `eos_token_id`:128001 for open-end generation.\n",
      "Setting `pad_token_id` to `eos_token_id`:128001 for open-end generation.\n",
      "Setting `pad_token_id` to `eos_token_id`:128001 for open-end generation.\n",
      "Setting `pad_token_id` to `eos_token_id`:128001 for open-end generation.\n",
      "Setting `pad_token_id` to `eos_token_id`:128001 for open-end generation.\n",
      "Setting `pad_token_id` to `eos_token_id`:128001 for open-end generation.\n",
      "Setting `pad_token_id` to `eos_token_id`:128001 for open-end generation.\n",
      "Setting `pad_token_id` to `eos_token_id`:128001 for open-end generation.\n",
      "Setting `pad_token_id` to `eos_token_id`:128001 for open-end generation.\n",
      "Setting `pad_token_id` to `eos_token_id`:128001 for open-end generation.\n",
      "Setting `pad_token_id` to `eos_token_id`:128001 for open-end generation.\n",
      "Setting `pad_token_id` to `eos_token_id`:128001 for open-end generation.\n",
      "Setting `pad_token_id` to `eos_token_id`:128001 for open-end generation.\n",
      "Setting `pad_token_id` to `eos_token_id`:128001 for open-end generation.\n",
      "Setting `pad_token_id` to `eos_token_id`:128001 for open-end generation.\n",
      "Setting `pad_token_id` to `eos_token_id`:128001 for open-end generation.\n",
      "Setting `pad_token_id` to `eos_token_id`:128001 for open-end generation.\n",
      "Setting `pad_token_id` to `eos_token_id`:128001 for open-end generation.\n",
      "Setting `pad_token_id` to `eos_token_id`:128001 for open-end generation.\n",
      "Setting `pad_token_id` to `eos_token_id`:128001 for open-end generation.\n",
      "Setting `pad_token_id` to `eos_token_id`:128001 for open-end generation.\n",
      "Setting `pad_token_id` to `eos_token_id`:128001 for open-end generation.\n",
      "Setting `pad_token_id` to `eos_token_id`:128001 for open-end generation.\n",
      "Setting `pad_token_id` to `eos_token_id`:128001 for open-end generation.\n",
      "Setting `pad_token_id` to `eos_token_id`:128001 for open-end generation.\n",
      "Setting `pad_token_id` to `eos_token_id`:128001 for open-end generation.\n",
      "Setting `pad_token_id` to `eos_token_id`:128001 for open-end generation.\n",
      "Setting `pad_token_id` to `eos_token_id`:128001 for open-end generation.\n",
      "Setting `pad_token_id` to `eos_token_id`:128001 for open-end generation.\n"
     ]
    },
    {
     "data": {
      "application/vnd.jupyter.widget-view+json": {
       "model_id": "0eb0cf07383445dc88633932d4484618",
       "version_major": 2,
       "version_minor": 0
      },
      "text/plain": [
       "Saving the dataset (0/1 shards):   0%|          | 0/786 [00:00<?, ? examples/s]"
      ]
     },
     "metadata": {},
     "output_type": "display_data"
    }
   ],
   "source": [
    "answers = trainset_tokenized.map(generate_answer, batched=True, batch_size=3)\n",
    "answers.save_to_disk('./my_HF_Arrow_Dataset/trainset_answers')"
   ]
  },
  {
   "cell_type": "code",
   "execution_count": 20,
   "metadata": {
    "id": "OSitUdoVMQX6"
   },
   "outputs": [
    {
     "data": {
      "application/vnd.jupyter.widget-view+json": {
       "model_id": "6b18ab6606a541b58c1cce323f40211c",
       "version_major": 2,
       "version_minor": 0
      },
      "text/plain": [
       "Filter:   0%|          | 0/786 [00:00<?, ? examples/s]"
      ]
     },
     "metadata": {},
     "output_type": "display_data"
    },
    {
     "name": "stdout",
     "output_type": "stream",
     "text": [
      "__________________________________________________\n",
      "R (on the application of AS) v Liverpool City Council\n",
      "\n",
      "{ \n",
      "\"reasoning\": \"The court has considered the Claimant's history of trauma and his asylum application and the Defendant's duties, the court concluded that the Claimant had a triable issue that permission should be granted. The court accepted the Claimant's evidence and rejected the Defendant's argument about the balance of convenience in favor of granting interim relief.\",\n",
      "\n",
      "\"important_factors\": \"the Claimant's history of trauma, the Defendant's previous acceptance of the Claimant's asserted age, recent evidence of the Claimant's birth certificate, the Defendant's duties towards a former relevant child, the mandatory character of the order sought, the Claimant's asylum application, the balance of convenience argument made by the Defendant.\",\n",
      "\n",
      "\"answer\": \"acquittal\"\n",
      "}\n",
      "**************************************************\n"
     ]
    },
    {
     "data": {
      "application/vnd.jupyter.widget-view+json": {
       "model_id": "ef2b755488264c5b98dac2a2a9271a15",
       "version_major": 2,
       "version_minor": 0
      },
      "text/plain": [
       "Filter:   0%|          | 0/786 [00:00<?, ? examples/s]"
      ]
     },
     "metadata": {},
     "output_type": "display_data"
    },
    {
     "name": "stdout",
     "output_type": "stream",
     "text": [
      "__________________________________________________\n",
      "R (on the application of Y) v Secretary of State for the Home Department\n",
      "\n",
      "{ \"reasoning\": \"The court's final verdict is a dismissal of the claimant's claim, specifically the rationality of the decision regarding the claimant's initial age assessment. This indicates that the court accepted the defendant's justification for the assessment, finding no irrationality in the decision.\", \n",
      "\n",
      "\"important_factors\": \"The facts and evidence presented by both the claimant and the defendant, including the assessment of the claimant's age, the application of the Dublin III Regulation, and the evaluation of the claimant's risk of absconding, were key factors in the court's decision.\", \n",
      "\n",
      "\"answer\": \"acquittal\" }\n",
      "**************************************************\n"
     ]
    },
    {
     "data": {
      "application/vnd.jupyter.widget-view+json": {
       "model_id": "193f85b0ac444f138395036fa5c223a9",
       "version_major": 2,
       "version_minor": 0
      },
      "text/plain": [
       "Filter:   0%|          | 0/786 [00:00<?, ? examples/s]"
      ]
     },
     "metadata": {},
     "output_type": "display_data"
    },
    {
     "name": "stdout",
     "output_type": "stream",
     "text": [
      "__________________________________________________\n",
      "R (on the application of SPM) v Secretary of State for the Home Department R (on the application of\n",
      "\n",
      "{ \"answer\": \"neither\", \"reasoning\": \"The court held that the Defendant's decision to open Derwentside IRC without adequate legal aid services does not amount to a hindrance, impediment or breaching of the duty under section 1 of LASPO to secure that legal aid is made available. The law of access to justice allows for flexible arrangements, including provision of services by telephone or other electronic means.\", \"important_factors\": \"The Defendant has statutory powers to detain people for immigration purposes. The Claimants have not joined the Lord Chancellor to this claim, and confirmed in their reply that they do not allege any breach of duty by the Lord Chancellor in the provision of legal aid. The law of access to justice allows for flexible arrangements, including provision of services by telephone or other electronic means.\" }\n",
      "**************************************************\n",
      "{ \"reasoning\": \"The Defendant accepted that no statutory provision authorises hindrance or impediment to a detainee's access to legal advice, and the Detention Centre Rules explicitly identify a right for detainees to enjoy relationships with agencies outside the detention centre and receive confidential legal visits.\", \n",
      "\"important_factors\": \"The Defendant accepted that the Detention Centre Rules provide for detainees to enjoy confidentiality for their legal visits; no statutory provisions authorise hindrance or impediment to detainees' access to legal advice; The Defendant has a broad statutory power to determine where persons should be detained, but it is not directed at securing access to justice, and the mechanism of legal aid has limited scope.\", \n",
      "\"answer\": \"conviction\" }\n",
      "**************************************************\n",
      "{ \"answer\": \"neither\", \"reasoning\": \"The court did not find any grounds for convicting the defendant of direct or indirect discrimination. The prosecution argued that the Defendant's decision to open a female-only IRC at Derwentside, a site with previously been used as a secure training center, was discriminatory. However, the court found that this decision was proportionate and reasonable given the aim to provide a secure environment and tailored services for women detainees, as set out in the Equality Impact Assessment (EIA) report. The court also noted that the Defendant took steps to address indirect discrimination, such as providing modern communication links and adapting facilities to meet the needs of female detainees. Therefore, the court decided that the Defendant did not breach the Public Sector Equality Duty (PSED) in any aspect.\", \"important_factors\": \"Public Sector Equality Duty (PSED), Equality Impact Assessment (EIA), proportionate and reasonable decision-making, adaptation of facilities to meet the needs of female detainees\" }\n",
      "**************************************************\n",
      "{ \n",
      "  \"reasoning\": \"The court's final verdict is neither a conviction (“guilty”), an acquittal (“not guilty”), because the court found that the Defendant was acting justifiably and proportionally in providing legal services for female detainees at Derwentside, albeit in a way that was slightly different to that provided at male IRCs. This different treatment was justified as a proportionate means of achieving a legitimate aim: seeking to ensure that the immigration detention estate has the right amount of capacity, is fit for purpose and flexible, and serves the whole of the UK whilst minimising the cost to the public purse where possible. \",\n",
      "\"important_factors\": \"The fact that female detainees at Derwentside were not entitled to in-person legal advice meetings with qualified practitioners, but were offered videoconferencing and telephone sessions instead, was not considered to be discriminatory treatment by the Court. Instead, the Court considered that the different legal advice provision for females was a proportionate means to achieving a legitimate aim, as the facilities for male IRCs were already established and functional. Moreover, female detainees at Yarl's Wood, an all female IRC, were provided with similar albeit inferior legal aid, thus supporting the proportionality of the Defendant's decision.\",\n",
      "\"answer\": \"acquittal\" }\n",
      "**************************************************\n"
     ]
    },
    {
     "data": {
      "application/vnd.jupyter.widget-view+json": {
       "model_id": "8817fc60e33f4d6a945917f91c859832",
       "version_major": 2,
       "version_minor": 0
      },
      "text/plain": [
       "Filter:   0%|          | 0/786 [00:00<?, ? examples/s]"
      ]
     },
     "metadata": {},
     "output_type": "display_data"
    },
    {
     "name": "stdout",
     "output_type": "stream",
     "text": [
      "__________________________________________________\n",
      "Re JR147_s Application for Judicial Review\n",
      "\n",
      "{ \"reasoning\": \"The key factors to consider in the case are the applicant's claim of age, the respondent's refusal to consider the issue, the applicant's experience with human trafficking and the availability of an appeal through the First-tier Tribunal.\", \"important_factors\": \"The applicant claims to be a Kuwaiti Bidun of 17/04/2003, the respondent has refused to consider the age issue, the applicant was subjected to a coercive immigration interview and the applicant can appeal the decision through the First-tier Tribunal.\", \"answer\": \"conviction\" }\n",
      "**************************************************\n",
      "{ \"reasoning\": \"The court should exercise its jurisdiction because the matter can no longer be dealt with by a specialist tribunal, as it has been found that the applicant is a victim of modern slavery/trafficking and the Greek authorities treated him as an adult. However, the respondent's assessment of the applicant's age has been proven to be incorrect due to the lack of consideration of the compelling evidence and opinion presented by the Trust. In exceptional circumstances such as these, the court is justified in making its own determination of the applicant's age to vindicate his rights.\", \"important_factors\": \"Merton-compliant assessment, compelling evidence and opinion presented by the Trust, expert evidence submitted, the applicant's status as a victim of modern slavery/trafficking, and the fact that the court should protect him from unfairness and injustice.\", \"answer\": \"conviction\" }\n",
      "**************************************************\n"
     ]
    }
   ],
   "source": [
    "# browse the answer\n",
    "train_case_names = train_frame['file_name'].to_list()\n",
    "\n",
    "count = 0\n",
    "for case_name in train_case_names:\n",
    "    this_case_answers = answers.filter(\n",
    "                        lambda r: [name == case_name for name in r['file_name']],\n",
    "                        batched=True,\n",
    "                        batch_size=1000,\n",
    "      )\n",
    "\n",
    "    print('_'*50)\n",
    "    print(case_name)\n",
    "    print()\n",
    "    for ans in this_case_answers['model_answer']:\n",
    "        query, response = ans.split('</section>\\nJSON Answer:\\n')\n",
    "        print(response)\n",
    "        print('*'*50)\n",
    "\n",
    "    count += 1\n",
    "    if count > 3:\n",
    "        break"
   ]
  },
  {
   "cell_type": "markdown",
   "metadata": {
    "id": "rzZ05HviM6fE",
    "jp-MarkdownHeadingCollapsed": true
   },
   "source": [
    "## Debug the prompt"
   ]
  },
  {
   "cell_type": "code",
   "execution_count": 33,
   "metadata": {
    "id": "NJour9bTezC9",
    "outputId": "6e8f6dda-47a4-4eaa-bbf1-0ad597885609"
   },
   "outputs": [
    {
     "name": "stderr",
     "output_type": "stream",
     "text": [
      "  0%|          | 0/746 [00:00<?, ?it/s]"
     ]
    },
    {
     "data": {
      "application/vnd.jupyter.widget-view+json": {
       "model_id": "ec976ce8026548f8972bacbdc28c6898",
       "version_major": 2,
       "version_minor": 0
      },
      "text/plain": [
       "Filter:   0%|          | 0/786 [00:00<?, ? examples/s]"
      ]
     },
     "metadata": {},
     "output_type": "display_data"
    },
    {
     "data": {
      "application/vnd.jupyter.widget-view+json": {
       "model_id": "d1e73d58facd4197a133238bef8eef40",
       "version_major": 2,
       "version_minor": 0
      },
      "text/plain": [
       "Map:   0%|          | 0/2 [00:00<?, ? examples/s]"
      ]
     },
     "metadata": {},
     "output_type": "display_data"
    },
    {
     "name": "stderr",
     "output_type": "stream",
     "text": [
      "Setting `pad_token_id` to `eos_token_id`:128001 for open-end generation.\n",
      "  0%|          | 1/746 [00:51<10:36:17, 51.24s/it]"
     ]
    },
    {
     "name": "stdout",
     "output_type": "stream",
     "text": [
      "__________________________________________________\n",
      "HJ (by her litigation friend) v A local authority\n",
      "\n",
      "{ \"answer\": \"conviction\", \"reasoning\": \"Since the Defendant was deemed to have a duty to assess HJ as a child in need, but failed to do so after being aware of the preliminary assessment by RBG that HJ was an adult, the Defendant can be considered guilty of a breach of its statutory duty.\", \"important_factors\": \"The Defendant's failure to assess HJ, despite being aware of the preliminary assessment, is the key issue here. The Defendant's refusal was based on RBG's responsibility, but this was not a valid reason. The guidance is clear that a local authority should not pass the child on to another authority while there is a dispute about who is responsible. The Defendant's submission that the Claimant had an alternative remedy to seeking judicial review of the Defendant's refusal to assess the Defendant as a child is not supported by the law.\" }\n",
      "**************************************************\n",
      "{ \n",
      "\"reasoning\": \"The court has ruled that the Defendant is responsible to assess the needs of the child despite the preliminary age assessment by RBG. The court found that RBG's assessment is insufficient due to the lack of margin for error, the absence of reference to fairness, and the unclear language of the Age Assessment Guidance. Therefore, the Defendant is obligated to reassess the child's needs, which implies that HJ was not legally deemed a grown-up by the trial.\",\n",
      "\n",
      "\"important_factors\": \"The courts' consideration of the preliminary assessment by RBG, the margin for error in such assessment, the absence of reference to fairness, the unclear language of the Age Assessment Guidance, and the Defendant's failure to collaborate with RBG in conducting the age assessment.\", \n",
      "\n",
      "\"answer\": \"conviction\" }\n",
      "**************************************************\n"
     ]
    },
    {
     "data": {
      "application/vnd.jupyter.widget-view+json": {
       "model_id": "f8506791679e4f54b23c39cd198b102b",
       "version_major": 2,
       "version_minor": 0
      },
      "text/plain": [
       "Filter:   0%|          | 0/786 [00:00<?, ? examples/s]"
      ]
     },
     "metadata": {},
     "output_type": "display_data"
    },
    {
     "data": {
      "application/vnd.jupyter.widget-view+json": {
       "model_id": "dccd0958b2b4422ebe61938065e52c62",
       "version_major": 2,
       "version_minor": 0
      },
      "text/plain": [
       "Map:   0%|          | 0/1 [00:00<?, ? examples/s]"
      ]
     },
     "metadata": {},
     "output_type": "display_data"
    },
    {
     "name": "stderr",
     "output_type": "stream",
     "text": [
      "Setting `pad_token_id` to `eos_token_id`:128001 for open-end generation.\n",
      "  0%|          | 2/746 [01:40<10:22:22, 50.19s/it]"
     ]
    },
    {
     "name": "stdout",
     "output_type": "stream",
     "text": [
      "__________________________________________________\n",
      "R (on the application of NN) v Secretary of State for the Home Department_ R (on the application of\n",
      "\n",
      "{ \"reasoning\": \"The court grants general interim relief for the claimants' claim that the Secretary of State's policy of ending support 45 days after a conclusive determination is unlawful. The court has jurisdiction to grant this form of relief due to its wide scope under s 37 of the Senior Courts Act 1981. The balance of convenience comes down in favour of granting this relief due to the serious risk of irreparable harm to a significant number of vulnerable victims of modern slavery if their support ends after 45 days.\", \n",
      "\n",
      "\"important_factors\": \"The claimants' application for judicial review challenging the Secretary of State's policy of ending support 45 days after a conclusive determination. The Secretary of State submitted that individual interim relief has been ordered for the claimants and that general interim relief would make no difference to the outcome of the claim. The court considered whether the policy ending support after 45 days causes a serious issue to be tried, if the balance of convenience in granting relief would be in the public interest, and if the system would become overburdened due to granting general relief.\", \n",
      "\n",
      "\"answer\": \"conviction\" }\n",
      "**************************************************\n"
     ]
    },
    {
     "data": {
      "application/vnd.jupyter.widget-view+json": {
       "model_id": "3d5abb290ede4d07ac626331961b520e",
       "version_major": 2,
       "version_minor": 0
      },
      "text/plain": [
       "Filter:   0%|          | 0/786 [00:00<?, ? examples/s]"
      ]
     },
     "metadata": {},
     "output_type": "display_data"
    },
    {
     "data": {
      "application/vnd.jupyter.widget-view+json": {
       "model_id": "ba7eb248e22544fc9e7f7a518f90a383",
       "version_major": 2,
       "version_minor": 0
      },
      "text/plain": [
       "Map:   0%|          | 0/2 [00:00<?, ? examples/s]"
      ]
     },
     "metadata": {},
     "output_type": "display_data"
    },
    {
     "name": "stderr",
     "output_type": "stream",
     "text": [
      "Setting `pad_token_id` to `eos_token_id`:128001 for open-end generation.\n",
      "  0%|          | 3/746 [02:47<11:54:48, 57.72s/it]"
     ]
    },
    {
     "name": "stdout",
     "output_type": "stream",
     "text": [
      "__________________________________________________\n",
      "PHAN v HM ADVOCATE - 2018 JC 195\n",
      "\n",
      "{ \"answer\": \"neither\", \"important_factors\": \"The court must decide whether the Human Trafficking and Exploitation (Scotland) Act 2015 is incompatible with the EU Human Trafficking Directive because the minuter lacks access to a defence for being trafficked into the UK and compelled to commit the offence. The Directive provides a defence for victims of trafficking who have been compelled to commit an offence as a direct consequence of being a victim of trafficking. However, the Act does not provide such a defence, leaving victims in Scotland without the protected status afforded by the Directive.\", \"reasoning\": \"The court must determine whether the absence of a statutory defence in the 2015 Act for being trafficked into the UK and compelled to commit an offence is incompatible with the EU Human Trafficking Directive. The Directive requires Member States to provide for the possibility of not imposing penalties on victims for their involvement in unlawful activities, to the extent that they have been compelled to do so. However, the 2015 Act does not provide such a defence, leaving the minuter without a protected status under the Directive. Therefore, the court must decide whether the Act is incompatible with the Directive, which would result in a conviction, an acquittal, or neither.\" }\n",
      "**************************************************\n",
      "{ \"answer\": \"acquittal\", \"reasoning\": \"Based on the provided section of the document, the court's final verdict of the defendant is an acquittal ('not guilty'), as the respondent determined, in accordance with the guidelines, that there was no reasonable basis for concluding that the minuter was the victim of trafficking, and the necessary element of compulsion to commit the offences was not present.\", \"important_factors\": \"The respondent did not find a credible and reliable information that the minuter was a victim of trafficking, the necessary element of compulsion to commit the offences was not present, and the minuter was not deprived of any rights that he may have had under the Directive.\" }\n",
      "**************************************************\n"
     ]
    },
    {
     "data": {
      "application/vnd.jupyter.widget-view+json": {
       "model_id": "dcde12f06fcd49b38bb639308a5d9489",
       "version_major": 2,
       "version_minor": 0
      },
      "text/plain": [
       "Filter:   0%|          | 0/786 [00:00<?, ? examples/s]"
      ]
     },
     "metadata": {},
     "output_type": "display_data"
    },
    {
     "data": {
      "application/vnd.jupyter.widget-view+json": {
       "model_id": "05a2eebfb9be44afb37c5709484ca72f",
       "version_major": 2,
       "version_minor": 0
      },
      "text/plain": [
       "Map:   0%|          | 0/2 [00:00<?, ? examples/s]"
      ]
     },
     "metadata": {},
     "output_type": "display_data"
    },
    {
     "name": "stderr",
     "output_type": "stream",
     "text": [
      "Setting `pad_token_id` to `eos_token_id`:128001 for open-end generation.\n",
      "  0%|          | 3/746 [03:34<14:46:04, 71.55s/it]"
     ]
    },
    {
     "name": "stdout",
     "output_type": "stream",
     "text": [
      "__________________________________________________\n",
      "PHAN v HM ADVOCATE - 2018 JC 195\n",
      "\n",
      "{ \"answer\": \"conviction\", \"reasoning\": \"The court held that the Lord Advocate's discretion not to prosecute met the requirement of Art 8 of the Directive that national authorities be entitled not to prosecute victims of trafficking. The court also found that the respondent's guidelines, which contained a presumption against the prosecution of victims of trafficking, were compliant with the Directive.\", \"important_factors\": \"The court held that the Lord Advocate's discretion not to prosecute met the requirement of Art 8 of the Directive, and the respondent's guidelines were compliant with the Directive.\" }\n",
      "**************************************************\n",
      "{  \n",
      "  \"reasoning\": \"Given the procedural guidelines and rules in place for handling human trafficking cases, the defence team did not contest the court proceedings and did not raise any points that could be seen as the 'correct' verdict. The trial ultimately took place after a prolonged and complex process and resulted in an acquittal.\",  \n",
      "  \"important_factors\": \"The key factors considered in this case include: the defendant's claim of being trafficked, the legal definition of trafficking, and the court's interpretation of the Modern Slavery Act 2015 and the EU Directive on Trafficking in Human Beings. The court's decision was influenced by the procedural guidelines for handling human trafficking cases and the availability of a defence for victims of trafficking.\",  \n",
      "  \"answer\": \"acquittal\" }\n",
      "**************************************************\n"
     ]
    },
    {
     "name": "stderr",
     "output_type": "stream",
     "text": [
      "\n"
     ]
    }
   ],
   "source": [
    "train_case_names = list(trainset_tokenized['file_name'])\n",
    "\n",
    "count = 0\n",
    "for case_name in tqdm(train_case_names[40:]):\n",
    "    # this might be only one chunk\n",
    "    document_chuncks = trainset_tokenized.filter(\n",
    "                        lambda r: [name == case_name for name in r['file_name']],\n",
    "                        batched=True,\n",
    "                        batch_size=1000,\n",
    "      )\n",
    "    answer = document_chuncks.map(generate_answer, batched=True, batch_size=3)\n",
    "\n",
    "    print('_'*50)\n",
    "    print(case_name)\n",
    "    print()\n",
    "    for ans in answer['model_answer']:\n",
    "        query, response = ans.split('</section>\\nJSON Answer:\\n')\n",
    "        print(response)\n",
    "        print('*'*50)\n",
    "\n",
    "    count += 1\n",
    "    if count > 3:\n",
    "        break"
   ]
  },
  {
   "cell_type": "code",
   "execution_count": 30,
   "metadata": {
    "id": "UIeLXIjPMQX6"
   },
   "outputs": [
    {
     "name": "stdout",
     "output_type": "stream",
     "text": [
      "Your role is that of a legal lawyer specializing in modern slavery cases. \n",
      "You are given part of a legal document reporting the result of a court case. The document is delimited by <section> tags.\n",
      "Be logical and factual when answering. Provide step by step reasoning.\n",
      "Only use the information provided in this section of the document.\n",
      "\n",
      "According to this section of the document, is the court's final verdict of the defendant a conviction (“guilty”), an acquittal (“not guilty”), or neither?\n",
      "\n",
      "The JSON format of the answer is given in the example output below:\n",
      "{\n",
      "\"reasoning\": \"Write your reasoning here. Keep it under 70 words and answer concisely.\",\n",
      "\n",
      "\"important_factors\": \"Write the important deciding factors for the case here. Keep it under 70 words and answer concisely.\",\n",
      "\t\n",
      "\"answer\": \"Write your final choice here. Choose exactly one of the three options: conviction, acquittal, neither.\"\n",
      "}\n",
      "Do not write an introduction or summary. Keep the whole answer under 180 words. Respond only with valid JSON.\n",
      "The section of the document:\n",
      "<section> Home Office interpreted\n",
      "the PALERMO CONVENTION as meaning that trafficking involved the victim being coerced or deceived into a situation\n",
      "in which he or she was exploited. In its decision, dated 25 January 2017, the Home Office determined that the\n",
      "minuter was not a credible witness given the inconsistencies in his accounts to the police and to the Home Office,\n",
      "not all of which are repeated here.\n",
      "\n",
      "[13] The respondent reviewed the facts and determined, applying the guidelines, that there was no reasonable\n",
      "basis for concluding that the minuter was the victim of trafficking and, in any event, the necessary element of\n",
      "compulsion to commit the offence was not present. The minuter was accordingly placed on petition.\n",
      "**Procedure**\n",
      "\n",
      "[14] The minuter was indicted on charges of producing cannabis and concern in the supplying of cannabis, contrary\n",
      "respectively to secs 4(2)(a) and 4(3)(b) of the _[Misuse of Drugs Act 1971 (cap 38) and theft of electricity. A](https://advance.lexis.com/api/document?collection=legislation-uk&id=urn:contentItem:4ST8-9XT0-TWPY-Y0K9-00000-00&context=1519360)_\n",
      "compatibility minute maintained that the continued prosecution of the minuter was incompatible with the Directive\n",
      "because the minuter had no access to a defence that he had been trafficked into the United Kingdom and\n",
      "compelled to commit the offences. The minute sought: a declarator that the 2015 **ACT was incompatible with EU law**\n",
      "because of the absence of such a defence; an order deserting the proceedings because of the absence of the\n",
      "defence on the ground of oppression; or directions to the jury on coercion in a manner which was compatible with\n",
      "the Directive; or a reference to the High Court. A first diet was allocated for 3 August, with a trial diet on 22 August\n",
      "2016. Thereafter, the case called on no less 11 occasions before, remarkably, 11 different sheriffs before one of\n",
      "those sheriffs decided to take a decision to remit the matter to the High Court.\n",
      "\n",
      "[15] The sheriff determined that it would not be appropriate to desert simpliciter, since it could not be said that a fair\n",
      "trial was impossible (PATERSON V HM **_ADVOCATE; HM_** **_ADVOCATE V V). The decision taken by the respondent had not_**\n",
      "\n",
      "been unfair. The guidelines had been cited with approval in the Council of Europeʼs GROUP OF EXPERTS ON ACTION\n",
      "\n",
      "**AGAINST TRAFFICKING IN HUMAN BEINGS (Report concerning the implementation of the Council of Europe Convention**\n",
      "_on Action against Trafficking in Human Beings by the United Kingdom — Second Evaluation Round) and the Anti-_\n",
      "\n",
      "trafficking Monitoring Group, in October 2016. The respondentʼs guidelines, which contained a presumption against\n",
      "\n",
      "the prosecution of victims of trafficking, were compliant with the Directive. That Directive allowed Member States to\n",
      "devise their own systems of implementation. The 2015 **ACT placed responsibility for the decision**\n",
      "**[*202]**\n",
      "\n",
      "\n",
      "-----\n",
      "\n",
      "to prosecute on the respondent. This was in accordance with the traditional approach to prosecution. The\n",
      "\n",
      "respondentʼs decision had been made after consideration of compulsion. It had not determined the outcome of\n",
      "\n",
      "proceedings and could not affect the fairness of the trial. The minuter was free to lead evidence in support of his\n",
      "position that he was a victim of trafficking. In these circumstances, the minuter had not been deprived of any rights\n",
      "that he may have had under the Directive. His rights under Art 6 of the European Convention had not been\n",
      "breached.\n",
      "\n",
      "[16] The issue of punishment was a matter which, according to the sheriff, gave rise to real difficulty. Evidence that\n",
      "the minuter was the victim of trafficking was not a recognised defence, as it was elsewhere in the United Kingdom.\n",
      "Even if the jury accepted his account of trafficking, the minuter would still face conviction and sentence unless his\n",
      "position fell within an existing category of special or statutory defence. The sentencing sheriff would not know\n",
      "\n",
      "whether the jury had, or had not, accepted the minuterʼs account. The defence of coercion required the minuter to\n",
      "\n",
      "establish that he had acted under an immediate danger of death or serious bodily harm (THOMSON V **_HM_**\n",
      "**_ADVOCATE). This requirement would not be met if the minuter had been acting under duress of a serious, but not_**\n",
      "immediate, kind.\n",
      "**SubmissionsMinuter**\n",
      "\n",
      "[17] The minuter moved the court to answer questions (1) and (2) in the affirmative or, if it did not do so, to set out\n",
      "appropriate directions on coercion. Attention was initially focused on the scale of the human trafficking problem; it\n",
      "not being unusual for victims to be Vietnamese being exploited for the purposes of cannabis cultivation. The\n",
      "international law background had commenced with the prohibition of slavery in the European Convention (Art 4).\n",
      "Since 2000, a series of international conventions had addressed the situation, notably the PALERMO PROTOCOL, the\n",
      "EU Framework Decision 2002/629/JHA and the WARSAW CONVENTION.\n",
      "\n",
      "[18] The Charter of Fundamental Rights of the European Union contained a prohibition on slavery, and a specific\n",
      "one relative to trafficking. Article 47 provided that everyone, whose rights and freedoms were guaranteed by EU\n",
      "law, had a right to an effective remedy; that being one which was neither theoretical nor illusory (X V BELGIUM, AG,\n",
      "para 158; W V SANOFI PASTEUR MSD **_SNC; FINANMADRID EFC_** **_SA V ZAMBRANO, AG, para 84; BERLIOZ INVESTMENT_**\n",
      "**_FUND_** **_SA V_** **_DIRECTOR OF THE_** **_DIRECT_** **_TAXATION_** **_ADMINISTRATION, para 44). There had been a shift in the general_**\n",
      "approach from respect for procedural autonomy to the protection of substantive rights (PUSKAR V **_SLOVAKIA, AG,_**\n",
      "paras 46–51; **_BERLIOZ_** **_INVESTMENT_** **_FUND, paras 44–56, 83, 84). There required to be an effective opportunity to_**\n",
      "\n",
      "challenge the respondentʼs decision to prosecute. National courts had a duty of ʻsincere co-operationʼ (R **_(MILLER) V_**\n",
      "\n",
      "**_SECRETARY OF_** **_STATE FOR_** **_EXITING THE_** **_EUROPEAN_** **_UNION, para 61;_** **_R_** **_(BUCKINGHAMSHIRE_** **_COUNTY_** **_COUNCIL) V_**\n",
      "**_SECRETARY OF_** **_STATE FOR_** **_TRANSPORT, para 206;_** **_OPINION_** **_2/13 on the accession of the European Union to the_**\n",
      "European Convention).\n",
      "\n",
      "[19] In England and Wales, the **WARSAW** **CONVENTION had been implemented (R V** **_M) in three ways, namely_**\n",
      "through: (1) the common law defences of duress and necessity; (2) specific rules for the guidance of prosecutors;\n",
      "and (3) the power of the court to stay a prosecution as an abuse of process. Careful consideration required to be\n",
      "given as to whether prosecution and punishment should follow in the case of a victim, where the crime had been\n",
      "something which he or she had been compelled,\n",
      "**[*203]**\n",
      "\n",
      "[in a broad sense, to commit. The matter was fact-sensitive. The Modern Slavery Act 2015 had provided a statutory](https://advance.lexis.com/api/document?collection=legislation-uk&id=urn:contentItem:5FP0-CDM1-DYCN-C0GV-00000-00&context=1519360)\n",
      "defence where the accused person had been compelled to commit a crime through trafficking. It was a requirement\n",
      "that a reasonable person, in the same situation, would have had no realistic alternative but to commit the crime.\n",
      "The Human Trafficking and Exploitation (Criminal Justice and Support for Victims) Act (Northern Ireland) 2015 had\n",
      "achieved much the same purpose in Northern Ireland, although it only provided a defence in respect of the\n",
      "cultivation, and not concern in the supplying, of cannabis.\n",
      "\n",
      "[20] The 2015 **ACT did not provide a defence. This had been an intentional decision by Parliament, following upon**\n",
      "the statement by the Cabinet Secretary for Justice. For the purposes of EU law, the question of whether there had\n",
      "been differential treatment depended upon whether the primacy, unity and effectiveness of EU law had been\n",
      "\n",
      "\n",
      "-----\n",
      "\n",
      "compromised. The fact that there was no statutory defence meant that victims of trafficking were less well protected\n",
      "in Scotland than in the rest of the United Kingdom. Such an approach required to be justified substantively and by\n",
      "reference to the requirement of legality. The justification given failed to recognise the procedural rights of victims\n",
      "under Art 47 of the Charter, when the prosecutor decided whether to prosecute. The Directive gave the minuter a\n",
      "right to have the question, of whether he was a victim and had been compelled to commit the offence, determined\n",
      "at a fair and public hearing by an independent and impartial tribunal.\n",
      "\n",
      "[21] The defence of coercion (THOMSON V **_HM_** **_ADVOCATE) did not provide sufficient protection because, in many_**\n",
      "cases at least, there was no immediate danger of death or serious bodily harm or an inability to resist the violence.\n",
      "Many of those, who had been compelled to commit offences as a direct consequence of being subject to the\n",
      "prohibited acts, would not be able to rely on the defence as it was currently expressed (see **_VAN DAO V R for the_**\n",
      "position in England).\n",
      "\n",
      "[22] A proof in mitigation was not an effective remedy. If an accused had a substantive defence, or there were\n",
      "issues related to other fundamental rights, these would be lost if a proof in mitigation was the only method by which\n",
      "protection could be secured. Mitigation could not be advanced where it was inconsistent with a plea of guilty. Any\n",
      "plea would proceed on a narrative in which the Crown would wish to state that the accused had not committed the\n",
      "offence as a result of trafficking (see ROSS V HM **_ADVOCATE). Even if the narrative did not contradict the plea, the_**\n",
      "\n",
      "burden of proof would lie upon the accused, and that was not consistent with an accusedʼs rights.\n",
      "\n",
      "[23] The question, of whether the minuter had been compelled to act as he did as a result of trafficking, required to\n",
      "be decided in a procedurally fair manner. Great deference was given by the courts to the Lord Advocate. There was\n",
      "\n",
      "no ʻrobust traditionʼ of independent judicial review of his decisions (HESTER V MACDONALD, pp 378, 379; MCBAIN V\n",
      "\n",
      "**_CRICHTON, pp 28, 29; ROSS V LORD ADVOCATE, para 75; STEWART V PAYNE). This was in contrast to the position in_**\n",
      "England (R **_(CORNER HOUSE RESEARCH) V DIRECTOR OF THE SERIOUS FRAUD OFFICE, paras 30, 32). There was no_**\n",
      "\n",
      "case in which the Lord Advocateʼs discretion in the context of a criminal prosecution had been subject to a\n",
      "\n",
      "successful review (see STUURMAN V HM **_ADVOCATE)._**\n",
      "\n",
      "[24] The Lord Advocate had not acted in a procedurally fair manner. The Crown had given an undertaking not to\n",
      "\n",
      "use the police interview of the minuter in the prosecution, yet the foundation of the Crownʼs conclusion, that he was\n",
      "\n",
      "not the victim of trafficking, had stemmed from the conclusive grounds decision\n",
      "**[*204]**\n",
      "\n",
      "notification, which had relied on a comparison between what the minuter had told the police and what he had said\n",
      "to the Home Office.\n",
      "\n",
      "[25] In **_R V_** **_JOSEPH (paras 24–28), the Court of Appeal had held that domestic law was compatible with the_**\n",
      "obligations under the international conventions. That reasoning could not apply in Scotland, because there was no\n",
      "power to stay a prosecution akin to that in England. In the absence of such a power, the court required to create a\n",
      "defence which would give effect to the Directive in a procedurally fair manner. If it did not do so, the continued\n",
      "prosecution of the minuter would be oppressive.\n",
      "\n",
      "[26] The submission relative to Art 6 of the European Convention was departed from.\n",
      "_Respondent_\n",
      "\n",
      "[27] Section 8 of the 2015 **ACT required the respondent to issue and publish instructions about the prosecution of a**\n",
      "person who appeared to be the victim of human trafficking. The instructions required certain factors to be taken into\n",
      "account. The respondent had issued and published instructions in accordance with sec 8. These provided that there\n",
      "was a strong presumption against prosecution where there was credible and reliable information that: the accused\n",
      "was a victim of trafficking; he or she was compelled to commit the offence; and the compulsion was directly\n",
      "attributable to being a victim.\n",
      "\n",
      "\n",
      "-----\n",
      "\n",
      "[28] The respondent had appointed a national lead prosecutor for human trafficking and exploitation. All cases\n",
      "required to be reported to him for a final decision. If information came to light, which suggested that the accused\n",
      "was the victim of human trafficking, the prosecutor was required to investigate. Where information came to light\n",
      "after conviction, the prosecutor had to apply to have the conviction quashed.\n",
      "\n",
      "[29] Article 8 of the Directive provided that the approach taken to implementation was to be in accordance with the\n",
      "basic principles of the legal systems of each Member State. The Directive allowed for different approaches\n",
      "\n",
      "(KAMBERAJ V **_ISTITUTO PER LʼEDILIZIA_** **_SOCIALE DELLA_** **_PROVINCIA_** **_AUTONOMA DI_** **_BOLZANO_** **_(IPES), para 77). Article 8_**\n",
      "\n",
      "did not require a statutory defence (see also recital (14)). Member States were only required to ensure that the\n",
      "\n",
      "national authorities ʻwere entitledʼ not to prosecute or to impose penalties on victims.\n",
      "\n",
      "[30] Prior to the Directive, the principal European instrument relating to human trafficking had been the **WARSAW**\n",
      "**CONVENTION. It had not formed part of EU law, as it had not been signed or ratified by the European Union. Article**\n",
      "26 did not require a blanket immunity from prosecution, nor did it provide a defence. Rather, an assessment of\n",
      "whether a prosecution was appropriate had to be carried out (R V M, para 13). The same approach could be taken\n",
      "in the interpretation of Art 8 of the Directive.\n",
      "\n",
      "[31] The prosecutorial discretion of the respondent was a basic principle of the legal system (MCBAIN V CRICHTON, p\n",
      "29; STEWART V PAYNE). The respondent required to consider whether prosecution was in the public interest, even\n",
      "where there was sufficient evidence (CROWN **OFFICE AND** **PROCURATOR** **FISCAL** **SERVICE,** _Prosecution Code, p 6)._\n",
      "\n",
      "The respondentʼs discretion not to prosecute, taken together with the publication of criteria to be taken into account\n",
      "\n",
      "when exercising that discretion, was sufficient to satisfy the requirements of Art 8 of the Directive. It had been held\n",
      "to\n",
      "**[*205]**\n",
      "\n",
      "satisfy the requirements of Art 26 of the WARSAW CONVENTION in England and Wales (R V M). The introduction of a\n",
      "statutory defence did not affect the compatibility of the English common law with the requirements of Art 26 (R V\n",
      "**_JOSEPH). It had been described as a backstop to the prosecutorial discretion (R_** **_(MCNIECE) V_** **_CRIMINAL_** **_INJURIES_**\n",
      "**_COMPENSATION_** **_AUTHORITY, para 131). Where the commencement or continuation of a prosecution breached a_**\n",
      "European Convention right, the court had the power to halt the prosecution (BUTT V SCOTTISH MINISTERS, para 16).\n",
      "\n",
      "[32] The obligation imposed on the respondent by sec 8 of the **2015** **ACT had not been necessary to ensure**\n",
      "compliance with Art 8 of the Directive. Rather it served to codify the factors which would be taken into account\n",
      "(POLICY MEMORANDUM to the Human Trafficking and Exploitation (Scotland) Bill (SP Bill 57), para 52). The Scottish\n",
      "regime had been endorsed by the **GROUP OF** **EXPERTS ON** **ACTION AGAINST** **TRAFFICKING IN** **HUMAN** **BEINGS report.**\n",
      "Individuals who had voluntarily committed criminal offences could seek to avoid punishment by falsely claiming to\n",
      "have been compelled to do so. This phenomenon was not uncommon among Vietnamese nationals who were\n",
      "involved in cannabis production (INDEPENDENT **ANTI-SLAVERY** **COMMISSIONER,** _Combating_ **_Modern Slavery_**\n",
      "_experienced by Vietnamese Nationals en route to, and within, the UK, para 4.2.2). The need for a balanced,_\n",
      "\n",
      "thorough and careful investigation was emphasised in the respondentʼs instructions.\n",
      "\n",
      "[33] The existence of a statutory defence in other UK jurisdictions was irrelevant to the compatibility of the 2015 **ACT**\n",
      "with EU law. The existence of alternative approaches within the United Kingdom did not constitute discrimination (R\n",
      "**_(HORVATH) V SECRETARY OF STATE FOR THE ENVIRONMENT,_** **_FOOD AND RURAL AFFAIRS, para 58). The regime was to_**\n",
      "be distinguished from a situation where one part of the United Kingdom differentiated between citizens based on\n",
      "whether or not they were residents of that part (R **_(A) V SECRETARY OF STATE FOR HEALTH, para 37–49)._**\n",
      "\n",
      "[34] Article 8 of the Directive did not require any particular approach to be taken by Member States. A judge was\n",
      "entitled to take into account the fact that an accused was the victim of trafficking at the point of sentence. The\n",
      "sentencer could grant an absolute discharge in almost all cases. The requirement that Member States confer a\n",
      "discretion on the national authorities was subject to the caveat that such provision should be made in accordance\n",
      "with the basic principles of their own legal systems.\n",
      "\n",
      "\n",
      "-----\n",
      "\n",
      "[35] The continued prosecution of the minuter was not incompatible with the Directive, as it did not confer on any\n",
      "person the right not to be prosecuted or punished. The continued prosecution of the minuter was not incompatible\n",
      "with Art 8 of the Directive or Art 47 of the Charter. The second question should be answered in the negative.\n",
      "\n",
      "[36] No additional directions over and above the standard directions on coercion were required. The task of the jury\n",
      "was to determine guilt or otherwise. The question of compulsion by virtue of being trafficked was a discrete question\n",
      "which went only to mitigation, unless the circumstances were such as to amount to the recognised defences of\n",
      "coercion or necessity. Mitigation was a matter for the judge to consider at the point of sentence, having heard any\n",
      "relevant evidence during the trial or any proof in mitigation. The third question should be answered in the negative.\n",
      "**Decision**\n",
      "\n",
      "[37] Article 47 of the Charter of Fundamental Rights of the European Union provides that everyone whose rights\n",
      "and freedoms are guaranteed by EU law has a\n",
      "**[*206]**\n",
      "\n",
      "right to an effective remedy before an independent and impartial tribunal. The first question is whether the minuterʼs\n",
      "\n",
      "rights and freedoms under EU law have been violated. That in turn depends upon Art 8 of the Directive. This\n",
      "provides that Member States require to ensure that national authorities are entitled not to prosecute or to impose\n",
      "\n",
      "penalties on victims of human trafficking for their involvement in crimes which they have been ʻcompelledʼ to commit\n",
      "\n",
      "as a ʻdirect consequenceʼ of, in essence, threats, the use of force or other forms of coercion. It does not require that\n",
      "\n",
      "such victims are not prosecuted or punished. It does not confer a right on such victims not to be prosecuted or\n",
      "punished. What must be available is an option. No doubt, if such an option were not available in Scotland,\n",
      "proceedings could be taken to challenge that or any action taken without due consideration of such an option.\n",
      "\n",
      "[38] An option not to prosecute a person for a particular crime has always been available in Scotland; it being a\n",
      "matter for the respondent to decide whether to do so in the public interest. Whether a person was a victim of\n",
      "trafficking is something which might have been taken into account in deciding whether to prosecute him or her for a\n",
      "particular crime. Nevertheless, increasing recognition of the problem of trafficking and, of course, the terms of the\n",
      "Directive and its international antecedents, prompted the passing of sec 8 of the **2015** **ACT. This required the**\n",
      "respondent to publish instructions on that matter, specific to those who appear to be victims of human trafficking.\n",
      "The respondent has done this by creating a strong presumption against the prosecution of such persons where\n",
      "there is credible and reliable information to support the fact that the person has been compelled to carry out the\n",
      "offence as a direct result of trafficking.\n",
      "\n",
      "[39] The existence of such a discretion meets the requirements of Art 8 of the Directive in so far as it requires\n",
      "\n",
      "national authorities to be ʻentitled not to prosecuteʼ victims of trafficking who have been compelled to commit a\n",
      "\n",
      "crime. In this respect, the court agrees with R V JOSEPH, in which the Court of Appeal of England and Wales held\n",
      "that, in respect of pre **_[Modern Slavery Act 2015 cases, the common law remained compatible with existing](https://advance.lexis.com/api/document?collection=legislation-uk&id=urn:contentItem:5FP0-CDM1-DYCN-C0GV-00000-00&context=1519360)_**\n",
      "international obligations, not just Art 26 of the WARSAW CONVENTION with its focus on penalties, but also Art 8 (cited\n",
      "para 14). The Art 26 obligation had, in terms of the previous case law, been given effect through: (1) the common\n",
      "law defences of duress and necessity; (2) guidance to prosecutors on the exercise of the discretion to prosecute;\n",
      "and (3) the power of the court to stay a prosecution for an abuse of process (para 20(i)), but the Court also noted\n",
      "(para 20(ii)) the place of prosecutorial discretion, the context of which is Art 8. The situation is not materially\n",
      "different in Scotland.\n",
      "\n",
      "[40] First, there is vested in the respondent a general discretion not to prosecute. This is transmitted to prosecutors\n",
      "along with a specific instruction which provides a strong presumption against prosecution where a person has been\n",
      "compelled to carry out the offence as a direct effect of trafficking. Although the court may give due deference to the\n",
      "respondent in taking a decision to prosecute, that decision could be reviewed by the court where an accused\n",
      "advances a plea in bar of trial on the grounds of oppression. Such a review may very well succeed if, for example,\n",
      "\n",
      "the decision had been taken without regard to the respondentʼs instructions or if any prospective trial would\n",
      "\n",
      "inevitably be unfair (BUTT V SCOTTISH MINISTERS, Lord Justice-Clerk (Carloway), para 16) having regard to the terms\n",
      "\n",
      "\n",
      "-----\n",
      "\n",
      "of any international obligations or EU law. However, no grounds have been advanced to suggest that the decision\n",
      "to prosecute the minuter was not properly taken in the context of the presumption contained in the instructions. The\n",
      "material available suggests that\n",
      "**[*207]**\n",
      "\n",
      "there were significant factors pointing away from the minuter having been trafficked in favour of him being a willing\n",
      "economic migrant.\n",
      "\n",
      "[41] As in England, there is no blanket immunity from prosecution for victims of trafficking. Various factors require to\n",
      "be taken into account when deciding whether to prosecute, including the gravity of the offence. Each case will turn\n",
      "\n",
      "on its own facts and circumstances but, unless there is material to contradict the respondentʼs findings or to\n",
      "\n",
      "demonstrate that significant evidence has been ignored by him, then, as in England (R V JOSEPH, para 20(viii), citing\n",
      "**_R V L, para 28), the courts would be unlikely to stop the prosecution at a preliminary stage._**\n",
      "\n",
      "[42] Secondly, the common law in relation to coercion is available if the circumstances reveal that an accused has\n",
      "been coerced into carrying out the cultivation of cannabis under threat of violence. It is important to observe that the\n",
      "_locus classicus (THOMSON V_ **_HM_** **_ADVOCATE) was concerned with the robbery of a Post Office sorting-office using_**\n",
      "firearms. It was rather different from the more placid, but time consuming crime of cultivating cannabis. In the\n",
      "context of a single violent act, committed in a place accessible through public spaces where resort to the forces of\n",
      "law and order will normally be possible, there is a need for any coercion to involve a threat of immediate serious\n",
      "violence. As was made clear in THOMSON (Lord Justice-Clerk (Wheatley), delivering the opinion of the court, p 78),\n",
      "\n",
      "ʻthe defence of coercion is normally only open when it is based on present danger from present threatsʼ (emphasis\n",
      "\n",
      "added). It is properly tested having regard to: (1) the existence of immediate danger of violence; (2) the absence of\n",
      "\n",
      "an ability to resist or avoid the danger; (3) the extent of the accusedʼs role in the crime; and (4) the disclosure of the\n",
      "\n",
      "fact of coercion, and the return of any proceeds of the crime, on the first safe and convenient occasion. The third\n",
      "and fourth elements are not essential but are rather factors to be included in the assessment of the credibility and\n",
      "reliability of the primary account. Throughout **_THOMSON, as in the passages in_** **HUME (Commentaries, i, 53) cited,**\n",
      "\n",
      "there are repeated qualifications using the words ʻnormallyʼ or ʻgenerallyʼ. It will always be a matter of facts and\n",
      "\n",
      "circumstances whether a person was truly coerced (or compelled) to commit a crime by virtue of genuinely\n",
      "anticipated and unavoidable violence.\n",
      "\n",
      "[43] In the case of cannabis cultivation, for example, if the farmer is confined to a flat in which the cannabis is\n",
      "grown, and has reasonable grounds for believing that, if he does not tend to the crop, he will be seriously injured on\n",
      "the arrival of those controlling the operation, the defence may well be made out. THOMSON correctly stressed (p 78)\n",
      "the need, as in the related defence of self-defence, to strike a fine balance between the nature of the danger\n",
      "threatened and the seriousness of the crime. Nevertheless, there may be circumstances in which a person is\n",
      "exposed to a threat of violence to himself or a third party from which he cannot be protected by the forces of law\n",
      "and order and which he is not in a position to resist. Where such a situation arises, as it may do in a trafficking\n",
      "situation, its effect in law would have to be assessed on its particular facts.\n",
      "\n",
      "[44] Thirdly, even if the circumstances do not amount to the defence of coercion, they may nevertheless provide\n",
      "powerful mitigation. It will be a matter for the minuter to decide whether to plead not guilty and to run a defence of\n",
      "coercion. If the matter goes to trial and the jury reject coercion as a defence, the minuter can still maintain that he\n",
      "was nevertheless trafficked and that that had a bearing on the degree of his culpability. The fact that the jury have\n",
      "not been asked to rule on the fact of trafficking or its effect, other than in the context of coercion, has no bearing on\n",
      "\n",
      "the sheriffʼs ability to assess that fact and its bearing. As with many potential\n",
      "\n",
      "**[*208]**\n",
      "\n",
      "mitigating factors, the sheriff is entitled to form a view based upon the evidence heard. This may include the\n",
      "testimony of the minuter himself. If he or she has not given evidence prior to a guilty verdict or he or she elects to\n",
      "plead guilty, he or she can still make such submissions about his or her personal circumstances (including being a\n",
      "victim of trafficking) as he or she wishes. If there is a material issue of disputed fact, he has the option of a proof in\n",
      "\n",
      "\n",
      "-----\n",
      "\n",
      "mitigation. In all of these various situations, the sheriff has a discretion to reduce what would otherwise normally\n",
      "\n",
      "have been the appropriate sentence. The sheriffʼs concerns in this area are misplaced and the contention that a\n",
      "\n",
      "proof in mitigation is not an effective mechanism is rejected.\n",
      "\n",
      "[45] In a case such as the present, where there are established parameters in relation to sentences for cannabis\n",
      "cultivation (LIN V **_HM_** **_ADVOCATE), a significant reduction in the level of custodial sentence may be appropriate. In_**\n",
      "[other situations, a non-custodial disposal may be imposed. In some, an absolute discharge might be given (Criminal](https://advance.lexis.com/api/document?collection=legislation-uk&id=urn:contentItem:4ST8-61P0-TWPY-Y03Y-00000-00&context=1519360)\n",
      "_[Procedure (Scotland) Act 1995 (cap 46), sec 246), in which case there is in effect no conviction other than for](https://advance.lexis.com/api/document?collection=legislation-uk&id=urn:contentItem:4ST8-61P0-TWPY-Y03Y-00000-00&context=1519360)_\n",
      "specific purposes (sec 247). What is clear is that the sheriff has a wide discretion in deciding what, if any, penalty\n",
      "should be imposed where the person convicted has been a victim of trafficking and this has encouraged him or her\n",
      "to commit the offence, albeit that the common law defence of coercion has not been made out.\n",
      "\n",
      "[46] The court will answer each question in the reference in the negative.\n",
      "**Postscript**\n",
      "\n",
      "[47] This case was indicted for a trial diet in August 2016. When the matter called at the first diet on 3 August 2016,\n",
      "\n",
      "the trial diet was postponed to 3 October with 7 September being a ʻfurtherʼ first diet. This was said to be in order\n",
      "\n",
      "that ʻfurther discussionsʼ take place regarding a potential Home Office decision. On 7 September 2016, it was said\n",
      "\n",
      "that the case was likely to proceed to trial and the outstanding matters were continued to that diet. On 14 October,\n",
      "\n",
      "the trial diet was postponed until 20 February to allow ʻfurther investigationsʼ with a ʻfirst diet and hearingʼ on the\n",
      "\n",
      "preliminary minutes allocated for 30 January 2017. On the latter date the ʻevidential hearingʼ was continued until 13\n",
      "\n",
      "February to allow time to consider the Home Office decision. On 13 February, the hearing was discharged because\n",
      "\n",
      "the decision was still awaited. A new diet of 20 February was set for an ʻevidential hearingʼ with a trial diet on 27\n",
      "\n",
      "February. On 20 February, the trial diet was postponed to 3 April 2017 and a ʻcontinued first diet and debateʼ\n",
      "\n",
      "assigned for 13 March 2017. On the latter date, the compatibility minute was continued to the trial diet, with a new\n",
      "\n",
      "diet for other preliminary issues assigned for 27 March. On the latter date, an undertaking not to use the ʻpolice\n",
      "\n",
      "interviewʼ at the trial was given. On 12 April 2017, the trial diet was ʻadjournedʼ to 18 July 2017, and a first diet\n",
      "\n",
      "assigned for 30 June 2017. A ʻfurther first dietʼ was fixed for 10 July and that was also to form an evidential hearing\n",
      "\n",
      "relative to the compatibility minute. The case ultimately called on 10 July, when argument was finally heard.\n",
      "Throughout this period, extensions of the 12-month time-bar were granted, with the last one being to 4 December\n",
      "2017.\n",
      "\n",
      "[48] Perhaps the most remarkable element of the procedure is the fact that the case called before 11 different\n",
      "sheriffs over a period of almost a year before argument was heard and a reference made. Such a delay is\n",
      "unacceptable and is not justified by the various explanations, some of them repetitive, minuted. It is\n",
      "**[*209]**\n",
      "\n",
      "particularly regrettable in a case of this type where the issue of trafficking was raised. The conduct of the first diets\n",
      "appears to have repeatedly contravened the clear terms of the **CRIMINAL** **COURTS** **PRACTICE** **NOTE NO** **3 OF** **2015**\n",
      "concerning sheriff court solemn procedure, notably the direction that preliminary pleas and issues ought to be dealt\n",
      "with at the (first) first diet and not continued repeatedly, sometimes to another first diet and often to a trial diet which\n",
      "ultimately, and not surprisingly, did not take place. It is disturbing to note the large number of sheriffs who appear to\n",
      "have allowed this to occur.\n",
      "\n",
      "The Court remitted the case to the sheriff.\n",
      "1\n",
      "\n",
      "On 25 April 2018 after trial the minuter was acquitted\n",
      "\n",
      "\n",
      "-----\n",
      "\n",
      "**End of Document**\n",
      "\n",
      "\n",
      "-----\n",
      "\n",
      "\n"
     ]
    }
   ],
   "source": [
    "print(query)"
   ]
  },
  {
   "cell_type": "code",
   "execution_count": null,
   "metadata": {
    "id": "TUXiW3BatiP5",
    "outputId": "220309f2-5349-48d8-fdaa-3a71b6eab88e",
    "scrolled": true
   },
   "outputs": [
    {
     "name": "stdout",
     "output_type": "stream",
     "text": [
      "Mon Dec 16 15:29:36 2024       \n",
      "+-----------------------------------------------------------------------------------------+\n",
      "| NVIDIA-SMI 560.35.03              Driver Version: 560.35.03      CUDA Version: 12.6     |\n",
      "|-----------------------------------------+------------------------+----------------------+\n",
      "| GPU  Name                 Persistence-M | Bus-Id          Disp.A | Volatile Uncorr. ECC |\n",
      "| Fan  Temp   Perf          Pwr:Usage/Cap |           Memory-Usage | GPU-Util  Compute M. |\n",
      "|                                         |                        |               MIG M. |\n",
      "|=========================================+========================+======================|\n",
      "|   0  NVIDIA RTX A4000               On  |   00000000:07:00.0 Off |                  Off |\n",
      "| 41%   36C    P8             14W /  140W |       2MiB /  16376MiB |      0%      Default |\n",
      "|                                         |                        |                  N/A |\n",
      "+-----------------------------------------+------------------------+----------------------+\n",
      "                                                                                         \n",
      "+-----------------------------------------------------------------------------------------+\n",
      "| Processes:                                                                              |\n",
      "|  GPU   GI   CI        PID   Type   Process name                              GPU Memory |\n",
      "|        ID   ID                                                               Usage      |\n",
      "|=========================================================================================|\n",
      "|  No running processes found                                                             |\n",
      "+-----------------------------------------------------------------------------------------+\n"
     ]
    }
   ],
   "source": [
    "!nvidia-smi"
   ]
  },
  {
   "cell_type": "markdown",
   "metadata": {
    "id": "pdRebbBGf64A"
   },
   "source": [
    "``` json\n",
    "\"tetd\": \"kkc\"\n",
    "\"tetd\": \"kkc\"\n",
    "\"tetd\": \"kkc\"\n",
    "```"
   ]
  },
  {
   "cell_type": "code",
   "execution_count": null,
   "metadata": {
    "id": "aIkIeJCif6zP"
   },
   "outputs": [],
   "source": []
  }
 ],
 "metadata": {
  "accelerator": "GPU",
  "colab": {
   "collapsed_sections": [
    "2KrIlgXM-uz6",
    "mRyZO3_IRndY"
   ],
   "gpuType": "T4",
   "provenance": []
  },
  "kernelspec": {
   "display_name": "Python 3 (ipykernel)",
   "language": "python",
   "name": "python3"
  },
  "language_info": {
   "codemirror_mode": {
    "name": "ipython",
    "version": 3
   },
   "file_extension": ".py",
   "mimetype": "text/x-python",
   "name": "python",
   "nbconvert_exporter": "python",
   "pygments_lexer": "ipython3",
   "version": "3.11.10"
  }
 },
 "nbformat": 4,
 "nbformat_minor": 4
}
